{
  "nbformat": 4,
  "nbformat_minor": 0,
  "metadata": {
    "colab": {
      "provenance": []
    },
    "kernelspec": {
      "name": "python3",
      "display_name": "Python 3"
    },
    "language_info": {
      "name": "python"
    }
  },
  "cells": [
    {
      "cell_type": "markdown",
      "source": [
        "# Parnian Taheri - 99106352"
      ],
      "metadata": {
        "id": "LiXIvCTKH_q7"
      }
    },
    {
      "cell_type": "code",
      "source": [
        "# Feel free to import any other libraries and modules.\n",
        "import numpy as np\n",
        "import matplotlib.pyplot as plt\n",
        "import torch\n",
        "from torchvision import datasets, transforms\n",
        "import torch.nn.functional as F\n",
        "from torch.utils.data import TensorDataset, DataLoader\n",
        "from torch import nn"
      ],
      "metadata": {
        "id": "i7I7O1kv0S21"
      },
      "execution_count": null,
      "outputs": []
    },
    {
      "cell_type": "markdown",
      "source": [
        "# Part One: Optimization Algorithms\n",
        "## 1. Gradient Descent\n",
        "The Gradient Descent (GD) algorithm finds the minimum of a given\n",
        "function by taking small steps along the function's gradient:\n",
        "\n",
        ">$\\Theta \\leftarrow \\Theta_0$\n",
        "\n",
        ">**while** stop condition not met **do**\n",
        "\n",
        ">$~~~~$$\\Theta \\leftarrow \\Theta - \\alpha \\nabla_\\Theta f(\\Theta)$\n",
        "\n",
        ">**end while**\n",
        "\n",
        "where $f$ is the function to minimize, $\\nabla_\\Theta f(\\Theta)$\n",
        "denotes $f$'s gradient at $\\Theta$ and $\\alpha$ is the learning rate.\n",
        "\n",
        "**Task1:** Implement the GD algorithm as a function:\n",
        "\n",
        "  \\begin{equation}\n",
        "      \\Theta_{opt} = \\text{GD}(f, \\Theta_0, \\alpha, \\rho)\n",
        "  \\end{equation}\n",
        "where $f$ is a function returning the cost and its gradient with respect to parameter vector $\\Theta$, $\\Theta_0$ is the initial value, and $\\alpha$\n",
        "is the learning rate. You can assume that $\\alpha$. remains constant during the optimization. $\\rho$ is stop condition. \\\\\n",
        "Then, use the GD algorithm to find the optimum of the [Rosenbrock function](https://en.wikipedia.org/wiki/Rosenbrock_function) (Consider $a=1, b=100$).\n",
        " \\\\\n",
        "Also, plot the values found by GD at subsequent iterations.\n",
        "\n",
        "## 2. Newton's Method\n",
        "Newton's method is an iterative optimization algorithm used to find the minimum of a function.\n",
        "The basic update step in Newton's method is given by:\n",
        "\n",
        "\\begin{equation}\n",
        "\\Theta = \\Theta - H^{-1} \\cdot \\nabla f(\\Theta)\n",
        "\\end{equation}\n",
        "\n",
        "\n",
        "Where  $ H $ is the Hessian matrix of the function at $ \\Theta $, and $ H^{-1} $ is the inverse of the Hessian matrix, used to adjust the step size and direction more accurately than just using the gradient alone (as done in gradient descent).\n",
        "\n",
        "#### Line Search\n",
        "Sometimes, Newton's method may take too large of a step, which can lead to divergence. To prevent this, a simple **line search** is used. This reduces the step size $ \\alpha $ if the function value doesn't improve after the step.\n",
        "\n",
        "Steps:\n",
        "1. Compute the gradient and Hessian matrix at the current point.\n",
        "2. Calculate the step direction by multiplying the inverse of the Hessian with the gradient.\n",
        "3. Update the point by subtracting the step from the current point.\n",
        "4. If the function value doesn't improve, reduce the step size $ \\alpha $.\n",
        "5. Repeat until the gradient becomes sufficiently small (close to zero), indicating convergence.\n",
        "\n",
        "\n",
        "\n",
        "**Task2:** Implement Newton's method and compare it with the gradient descent. You will also need to implement a line search alogithm, e.g. (https://en.wikipedia.org/wiki/Backtracking_line_search) and make sure that the Newton's direction is indeed one along which the function is minimized.\n"
      ],
      "metadata": {
        "id": "CeXRppkryQBV"
      }
    },
    {
      "cell_type": "code",
      "source": [
        "def rosenbrock(x):\n",
        "    \"\"\"Returns the value and gradient of Rosenbrock's function at x: 2d vector\"\"\"\n",
        "    a = 1\n",
        "    b = 100\n",
        "    val = (a - x[0])**2 + b * (x[1] - x[0]**2)**2\n",
        "    dv_dx0 = -2*(a - x[0]) - 4*b*(x[1] - x[0]**2)*x[0]\n",
        "    dv_dx1 = 2*b*(x[1] - x[0]**2)\n",
        "    grad = np.array([dv_dx0, dv_dx1])\n",
        "    return val, grad\n",
        "\n",
        "def rosenbrock_hessian(x):\n",
        "    \"\"\"Returns the value, gradient and hessian of Rosenbrock's function at x: 2d vector\"\"\"\n",
        "    val, grad = rosenbrock(x)\n",
        "    a = 1\n",
        "    b = 100\n",
        "    # Hessian matrix components\n",
        "    d2v_dx0x0 = 2 - 4*b*x[1] + 12*b*x[0]**2\n",
        "    d2v_dx0x1 = 4*b*x[0]\n",
        "    d2v_dx1x0 = -4*b*x[0]\n",
        "    d2v_dx1x1 = 2*b\n",
        "\n",
        "    # Hessian matrix\n",
        "    hessian = np.array([[d2v_dx0x0, d2v_dx0x1],\n",
        "                [d2v_dx1x0, d2v_dx1x1]])\n",
        "\n",
        "    return val, grad, hessian\n",
        "\n",
        "\n",
        "def GD(f, theta0, alpha, stop_tolerance=1e-10, max_steps=1000000):\n",
        "    \"\"\"Runs gradient descent algorithm on f.\n",
        "\n",
        "    Args:\n",
        "        f: function that when evaluated on a Theta of same dtype and shape as Theta0\n",
        "            returns a tuple (value, dv_dtheta) with dValuedTheta of the same shape\n",
        "            as Theta\n",
        "        theta0: starting point\n",
        "        alpha: step length\n",
        "        stop_tolerance: stop iterations when improvement is below this threshold\n",
        "        max_steps: maximum number of steps\n",
        "    Returns:\n",
        "        tuple:\n",
        "        - theta: optimum theta found by the algorithm\n",
        "        - history: list of length num_steps containing tuples (theta, (val, dv_dtheta: np.array))\n",
        "\n",
        "    \"\"\"\n",
        "    history = []\n",
        "\n",
        "    theta = theta0\n",
        "\n",
        "\n",
        "    step = 0\n",
        "    while step < max_steps:\n",
        "      val, grad = f(theta)\n",
        "      theta = theta - alpha * grad\n",
        "      if np.linalg.norm(grad) < stop_tolerance:\n",
        "           break\n",
        "      step += 1\n",
        "\n",
        "      history.append([theta, f(theta)])\n",
        "    return theta, history"
      ],
      "metadata": {
        "id": "DIsMJPFs-kLd"
      },
      "execution_count": null,
      "outputs": []
    },
    {
      "cell_type": "code",
      "source": [
        "# Find the optimum of rosenbrock function\n",
        "\n",
        "X0 = [0.,2.]\n",
        "Xopt, Xhist = GD(rosenbrock, X0, alpha=1e-3, stop_tolerance=1e-10, max_steps=1e6)\n",
        "\n",
        "print (\"Found optimum at %s in %d steps (true minimum is at [1,1])\" % (Xopt, len(Xhist)))\n",
        "\n",
        "# Extract the function values for plotting\n",
        "function_values = [val[0] for _, val in Xhist]\n",
        "plt.plot(function_values)\n",
        "plt.xlabel(\"Iteration\")\n",
        "plt.ylabel(\"Function Value (Log Scale)\")\n",
        "plt.yscale(\"log\")\n",
        "plt.title(\"Gradient Descent Convergence on the Rosenbrock Function\")\n",
        "plt.show()"
      ],
      "metadata": {
        "id": "yyb5unZNaSFq",
        "colab": {
          "base_uri": "https://localhost:8080/",
          "height": 489
        },
        "outputId": "f3b236de-102d-4673-c0b1-f7b747a217f2"
      },
      "execution_count": null,
      "outputs": [
        {
          "output_type": "stream",
          "name": "stdout",
          "text": [
            "Found optimum at [1. 1.] in 54319 steps (true minimum is at [1,1])\n"
          ]
        },
        {
          "output_type": "display_data",
          "data": {
            "text/plain": [
              "<Figure size 640x480 with 1 Axes>"
            ],
            "image/png": "[encoded data removed]"
          },
          "metadata": {}
        }
      ]
    },
    {
      "cell_type": "code",
      "source": [
        "# Newton's Method\n",
        "def Newton(f, theta0, alpha=1, stop_tolerance=1e-10, max_steps=1000000):\n",
        "    \"\"\"Performs Newton's optimization method with a simple line search.\n",
        "\n",
        "    Args:\n",
        "        f: function that when evaluated on a Theta of same dtype and shape as Theta0\n",
        "            returns a tuple (value, gradient, hessian), where gradient and Hessian\n",
        "            have the same shape as Theta.\n",
        "        theta0: starting point.\n",
        "        alpha: step length for backtracking line search (default is 1).\n",
        "        stop_tolerance: stop iterations when the norm of the gradient is below this threshold.\n",
        "        max_steps: maximum number of iterations.\n",
        "    Returns:\n",
        "        tuple:\n",
        "        - theta: optimal Theta after convergence or maximum steps.\n",
        "        - history: list of tuples (theta, value, gradient) containing the optimization path.\n",
        "    \"\"\"\n",
        "    theta = theta0\n",
        "    history = []\n",
        "    # TODO\n",
        "    step = 0\n",
        "    rho = 0.8\n",
        "    c = 1e-4 #Armijo condition constant (0 < c < 1).\n",
        "    while step < max_steps:\n",
        "      val, grad, hessian  = f(theta)\n",
        "\n",
        "      if np.linalg.norm(grad) < stop_tolerance:\n",
        "           break\n",
        "\n",
        "      step_direction = -np.linalg.solve(hessian, grad)\n",
        "\n",
        "      # line search\n",
        "      while True:\n",
        "        new_theta = theta + alpha * step_direction\n",
        "        new_value, _, _ = f(new_theta)\n",
        "\n",
        "        # Armijo condition\n",
        "        if new_value <= val + c * alpha * np.dot(grad, step_direction):\n",
        "            break\n",
        "        alpha *= rho\n",
        "\n",
        "\n",
        "      theta += alpha * step_direction\n",
        "\n",
        "      history.append([theta, f(theta)])\n",
        "\n",
        "      step += 1\n",
        "    return theta, history\n",
        "\n",
        "\n",
        "    return theta, history\n",
        "\n",
        "# Test Newton's method on the Rosenbrock function\n",
        "X0 = [0., 2.]  # Initial guess\n",
        "Xopt, Xhist = Newton(rosenbrock_hessian, X0)\n",
        "\n",
        "print (\"Found optimum at %s in %d steps (true minimum is at [1,1])\" % (Xopt, len(Xhist)))\n",
        "\n",
        "# Extract the function values for plotting\n",
        "function_values = [val[0] for _, val in Xhist]\n",
        "plt.plot(function_values)\n",
        "plt.xlabel(\"Iteration\")\n",
        "plt.ylabel(\"Function Value (Log Scale)\")\n",
        "plt.yscale(\"log\")\n",
        "plt.title(\"Newton's Method\")\n",
        "plt.show()"
      ],
      "metadata": {
        "id": "JQ1Bf6sNMT_B",
        "colab": {
          "base_uri": "https://localhost:8080/",
          "height": 489
        },
        "outputId": "e34639a0-1b4a-4442-fe95-1724ac57694f"
      },
      "execution_count": null,
      "outputs": [
        {
          "output_type": "stream",
          "name": "stdout",
          "text": [
            "Found optimum at [1. 1.] in 84867 steps (true minimum is at [1,1])\n"
          ]
        },
        {
          "output_type": "display_data",
          "data": {
            "text/plain": [
              "<Figure size 640x480 with 1 Axes>"
            ],
            "image/png": "[encoded data removed]"
          },
          "metadata": {}
        }
      ]
    },
    {
      "cell_type": "markdown",
      "source": [
        "With the Newton's method we can get the result but it is slower than Gradient Descent method."
      ],
      "metadata": {
        "id": "NbLAFfIEafMS"
      }
    },
    {
      "cell_type": "markdown",
      "source": [
        "# Part two: MLP for MNIST Classification\n",
        "In this part, we are going to use `PyTorch`. If you want to become more familiar with it, check this resource: https://www.learnpytorch.io/\n",
        "\n",
        "#### In this homework, you need to\n",
        "- implement SGD optimizer (`./optimizer.py`)\n",
        "- implement forward and backward for FCLayer (`layers.py`)\n",
        "- implement forward and backward for SigmoidLayer (`layers.py`)\n",
        "- implement forward and backward for ReLULayer (`layers.py`)\n",
        "- implement forward and backward for DropoutLayer (`layers.py`)\n",
        "- implement train and test process (`solver.py`)"
      ],
      "metadata": {
        "id": "wNXtvq8u-JSo"
      }
    },
    {
      "cell_type": "code",
      "source": [
        "# Feel free to import any other libraries and modules.\n",
        "import numpy as np\n",
        "import matplotlib.pyplot as plt\n",
        "import torch\n",
        "from torchvision import datasets, transforms\n",
        "import torch.nn.functional as F\n",
        "from torch.utils.data import TensorDataset, DataLoader\n",
        "from torch import nn"
      ],
      "metadata": {
        "id": "Ejkzivkn3UaJ"
      },
      "execution_count": 8,
      "outputs": []
    },
    {
      "cell_type": "code",
      "source": [
        "from layers import FCLayer, SigmoidLayer, ReLULayer\n",
        "from solver import train, test\n",
        "from optimizer import SGD"
      ],
      "metadata": {
        "id": "zWtm2k5Ir-XQ"
      },
      "execution_count": 9,
      "outputs": []
    },
    {
      "cell_type": "code",
      "source": [
        "seed = 42\n",
        "torch.manual_seed(seed)\n",
        "np.random.seed(seed)\n",
        "device = \"cuda\" if torch.cuda.is_available() else \"cpu\"\n",
        "device"
      ],
      "metadata": {
        "id": "NRwL2rM0O92Z",
        "colab": {
          "base_uri": "https://localhost:8080/",
          "height": 37
        },
        "outputId": "ca687dd7-9c95-4e9b-a96f-67b834c9856e"
      },
      "execution_count": 10,
      "outputs": [
        {
          "output_type": "execute_result",
          "data": {
            "text/plain": [
              "'cpu'"
            ],
            "application/vnd.google.colaboratory.intrinsic+json": {
              "type": "string"
            }
          },
          "metadata": {},
          "execution_count": 10
        }
      ]
    },
    {
      "cell_type": "code",
      "source": [
        "# Load MNIST dataset\n",
        "\n",
        "# Converts PIL image to tensor and scales to [0, 1] and flatten it\n",
        "transform = transforms.Compose([\n",
        "    transforms.ToTensor(),\n",
        "    transforms.Lambda(lambda x: x.view(-1)),\n",
        "])\n",
        "\n",
        "# Load MNIST dataset with the defined transform\n",
        "train_dataset = datasets.MNIST(root='./data', train=True, download=True, transform=transform)\n",
        "test_dataset = datasets.MNIST(root='./data', train=False, download=True, transform=transform)\n",
        "\n",
        "# One-hot encoding for labels\n",
        "def decode_label(label, num_classes=10):\n",
        "    return torch.nn.functional.one_hot(torch.tensor(label), num_classes=num_classes).float()\n",
        "\n",
        "# Preprocess labels and combine with transformed images\n",
        "y_train = [decode_label(label) for _, label in train_dataset]\n",
        "y_test = [decode_label(label) for _, label in test_dataset]\n",
        "\n",
        "# Convert the data into tensor datasets for training and testing\n",
        "train_dataset = TensorDataset(torch.stack([img for img, _ in train_dataset]), torch.stack(y_train))\n",
        "test_dataset = TensorDataset(torch.stack([img for img, _ in test_dataset]), torch.stack(y_test))\n",
        "\n",
        "# Create data loaders\n",
        "train_dataloader = DataLoader(train_dataset, batch_size=32, shuffle=True)\n",
        "test_dataloader = DataLoader(test_dataset, batch_size=32, shuffle=False)"
      ],
      "metadata": {
        "id": "bCXcnjSYaR-R"
      },
      "execution_count": 11,
      "outputs": []
    },
    {
      "cell_type": "code",
      "source": [
        "num_epoch = 20\n",
        "\n",
        "criterion = nn.MSELoss()\n",
        "\n",
        "# Build MLP with FCLayer and SigmoidLayer you've implemented in layers.py\n",
        "sigmoidMLP = nn.Sequential(\n",
        "    FCLayer(784, 128),\n",
        "    SigmoidLayer(),\n",
        "    FCLayer(128, 10)\n",
        ")\n",
        "\n",
        "# Initialize optimizer you've implemented in optimizer.py\n",
        "sgd = SGD(params=sigmoidMLP.parameters(), learning_rate=0.01)\n",
        "\n",
        "# Train the model using train function you've implemented in solver.py\n",
        "sigmoidMLP = train(sigmoidMLP, criterion, sgd, train_dataloader, num_epoch, device=device)"
      ],
      "metadata": {
        "id": "NkRty2cM-kIt",
        "colab": {
          "base_uri": "https://localhost:8080/"
        },
        "outputId": "3b929b84-e2c2-4cad-937d-ce00b4db6d4c"
      },
      "execution_count": null,
      "outputs": [
        {
          "output_type": "stream",
          "name": "stdout",
          "text": [
            "\n",
            "Epoch [0] Average training loss: 0.0771, Average training accuracy: 49.5583\n",
            "\n",
            "Epoch [1] Average training loss: 0.0556, Average training accuracy: 73.7800\n",
            "\n",
            "Epoch [2] Average training loss: 0.0506, Average training accuracy: 78.3550\n",
            "\n",
            "Epoch [3] Average training loss: 0.0482, Average training accuracy: 80.4600\n",
            "\n",
            "Epoch [4] Average training loss: 0.0466, Average training accuracy: 81.7267\n",
            "\n",
            "Epoch [5] Average training loss: 0.0456, Average training accuracy: 82.5433\n",
            "\n",
            "Epoch [6] Average training loss: 0.0448, Average training accuracy: 83.0700\n",
            "\n",
            "Epoch [7] Average training loss: 0.0442, Average training accuracy: 83.4383\n",
            "\n",
            "Epoch [8] Average training loss: 0.0437, Average training accuracy: 83.8400\n",
            "\n",
            "Epoch [9] Average training loss: 0.0432, Average training accuracy: 84.0783\n",
            "\n",
            "Epoch [10] Average training loss: 0.0429, Average training accuracy: 84.3000\n",
            "\n",
            "Epoch [11] Average training loss: 0.0426, Average training accuracy: 84.5500\n",
            "\n",
            "Epoch [12] Average training loss: 0.0423, Average training accuracy: 84.6450\n",
            "\n",
            "Epoch [13] Average training loss: 0.0420, Average training accuracy: 84.7417\n",
            "\n",
            "Epoch [14] Average training loss: 0.0418, Average training accuracy: 84.8950\n",
            "\n",
            "Epoch [15] Average training loss: 0.0415, Average training accuracy: 85.0383\n",
            "\n",
            "Epoch [16] Average training loss: 0.0413, Average training accuracy: 85.1650\n",
            "\n",
            "Epoch [17] Average training loss: 0.0411, Average training accuracy: 85.1417\n",
            "\n",
            "Epoch [18] Average training loss: 0.0409, Average training accuracy: 85.2883\n",
            "\n",
            "Epoch [19] Average training loss: 0.0407, Average training accuracy: 85.3333\n"
          ]
        }
      ]
    },
    {
      "cell_type": "code",
      "source": [
        "# Test your model using test function you've implemented in solver.py\n",
        "test(sigmoidMLP, test_dataloader, device)"
      ],
      "metadata": {
        "id": "F0otZUFrr7WW",
        "colab": {
          "base_uri": "https://localhost:8080/"
        },
        "outputId": "158deb9e-88f2-4bef-c6de-8d45156ba4f5"
      },
      "execution_count": null,
      "outputs": [
        {
          "output_type": "stream",
          "name": "stdout",
          "text": [
            "The test accuracy is 86.2720.\n",
            "\n"
          ]
        }
      ]
    },
    {
      "cell_type": "code",
      "source": [
        "# Build MLP with FCLayer and ReLULayer\n",
        "reluMLP = nn.Sequential(\n",
        "    FCLayer(784, 128),\n",
        "    ReLULayer(),\n",
        "    FCLayer(128, 10)\n",
        ")\n",
        "\n",
        "# Initialize optimizer\n",
        "sgd = SGD(reluMLP.parameters(), learning_rate=0.01)\n",
        "\n",
        "# Train the model\n",
        "reluMLP = train(reluMLP, criterion, sgd, train_dataloader, num_epoch, device=device)"
      ],
      "metadata": {
        "id": "n-2V-B_er7T2",
        "colab": {
          "base_uri": "https://localhost:8080/"
        },
        "outputId": "d437b7ee-5aa0-4dff-eb6b-f4ad3ac5982d"
      },
      "execution_count": 12,
      "outputs": [
        {
          "output_type": "stream",
          "name": "stdout",
          "text": [
            "\n",
            "Epoch [0] Average training loss: 0.0716, Average training accuracy: 62.6683\n",
            "\n",
            "Epoch [1] Average training loss: 0.0471, Average training accuracy: 81.1983\n",
            "\n",
            "Epoch [2] Average training loss: 0.0400, Average training accuracy: 85.2000\n",
            "\n",
            "Epoch [3] Average training loss: 0.0358, Average training accuracy: 87.1133\n",
            "\n",
            "Epoch [4] Average training loss: 0.0329, Average training accuracy: 88.2983\n",
            "\n",
            "Epoch [5] Average training loss: 0.0307, Average training accuracy: 89.1933\n",
            "\n",
            "Epoch [6] Average training loss: 0.0290, Average training accuracy: 89.8633\n",
            "\n",
            "Epoch [7] Average training loss: 0.0277, Average training accuracy: 90.3967\n",
            "\n",
            "Epoch [8] Average training loss: 0.0265, Average training accuracy: 90.8233\n",
            "\n",
            "Epoch [9] Average training loss: 0.0255, Average training accuracy: 91.1467\n",
            "\n",
            "Epoch [10] Average training loss: 0.0247, Average training accuracy: 91.4717\n",
            "\n",
            "Epoch [11] Average training loss: 0.0239, Average training accuracy: 91.7233\n",
            "\n",
            "Epoch [12] Average training loss: 0.0233, Average training accuracy: 91.9617\n",
            "\n",
            "Epoch [13] Average training loss: 0.0227, Average training accuracy: 92.1917\n",
            "\n",
            "Epoch [14] Average training loss: 0.0222, Average training accuracy: 92.4250\n",
            "\n",
            "Epoch [15] Average training loss: 0.0217, Average training accuracy: 92.5417\n",
            "\n",
            "Epoch [16] Average training loss: 0.0213, Average training accuracy: 92.7300\n",
            "\n",
            "Epoch [17] Average training loss: 0.0209, Average training accuracy: 92.9000\n",
            "\n",
            "Epoch [18] Average training loss: 0.0205, Average training accuracy: 93.0183\n",
            "\n",
            "Epoch [19] Average training loss: 0.0202, Average training accuracy: 93.1467\n"
          ]
        }
      ]
    },
    {
      "cell_type": "code",
      "source": [
        "# Test the model\n",
        "test(reluMLP, test_dataloader, device)"
      ],
      "metadata": {
        "id": "sLjxTbq8r7RZ",
        "colab": {
          "base_uri": "https://localhost:8080/"
        },
        "outputId": "f96e1e50-99f1-431d-80a7-279d5b63229b"
      },
      "execution_count": 13,
      "outputs": [
        {
          "output_type": "stream",
          "name": "stdout",
          "text": [
            "The test accuracy is 93.4804.\n",
            "\n"
          ]
        }
      ]
    },
    {
      "cell_type": "markdown",
      "source": [
        "### Overfit the model\n",
        "Try to overfit the reluMLP model. You can make the model as complex as you like, use subset of the data for training or any other approach you want.\n",
        "Then add **DropoutLayer** to your model in order to reduce overfitting problem."
      ],
      "metadata": {
        "id": "krsqZLJ-qQKH"
      }
    },
    {
      "cell_type": "code",
      "source": [
        "#TODO: overfit the reluMLP model\n",
        "from torch.utils.data import Subset\n",
        "subset_indices = list(range(50))  # Use only 50 samples for overfitting\n",
        "train_subset = Subset(train_dataset, subset_indices)\n",
        "\n",
        "# Create DataLoaders\n",
        "train_dataloader = DataLoader(train_subset, batch_size=5, shuffle=True)  # Small batch size\n",
        "test_dataloader = DataLoader(test_dataset, batch_size=32, shuffle=False)\n",
        "\n",
        "# Build MLP with FCLayer and ReLULayer\n",
        "reluMLP = nn.Sequential(\n",
        "    FCLayer(784, 512),\n",
        "    ReLULayer(),\n",
        "    FCLayer(512, 256),\n",
        "    ReLULayer(),\n",
        "    FCLayer(256, 128),\n",
        "    ReLULayer(),\n",
        "    FCLayer(128, 10)\n",
        ")\n",
        "\n",
        "# Initialize optimizer\n",
        "sgd = SGD(reluMLP.parameters(), learning_rate=0.01)\n",
        "\n",
        "# Train the model\n",
        "reluMLP = train(reluMLP, criterion, sgd, train_dataloader, num_epoch, device=device)"
      ],
      "metadata": {
        "id": "XbVFtro9qP1i",
        "colab": {
          "base_uri": "https://localhost:8080/"
        },
        "outputId": "d3589a2f-ced0-4070-99d9-4aa683c78547"
      },
      "execution_count": 17,
      "outputs": [
        {
          "output_type": "stream",
          "name": "stdout",
          "text": [
            "\n",
            "Epoch [0] Average training loss: 0.1439, Average training accuracy: 12.0000\n",
            "\n",
            "Epoch [1] Average training loss: 0.1192, Average training accuracy: 16.0000\n",
            "\n",
            "Epoch [2] Average training loss: 0.1050, Average training accuracy: 20.0000\n",
            "\n",
            "Epoch [3] Average training loss: 0.0960, Average training accuracy: 26.0000\n",
            "\n",
            "Epoch [4] Average training loss: 0.0897, Average training accuracy: 40.0000\n",
            "\n",
            "Epoch [5] Average training loss: 0.0846, Average training accuracy: 42.0000\n",
            "\n",
            "Epoch [6] Average training loss: 0.0807, Average training accuracy: 48.0000\n",
            "\n",
            "Epoch [7] Average training loss: 0.0772, Average training accuracy: 50.0000\n",
            "\n",
            "Epoch [8] Average training loss: 0.0742, Average training accuracy: 54.0000\n",
            "\n",
            "Epoch [9] Average training loss: 0.0714, Average training accuracy: 58.0000\n",
            "\n",
            "Epoch [10] Average training loss: 0.0688, Average training accuracy: 58.0000\n",
            "\n",
            "Epoch [11] Average training loss: 0.0665, Average training accuracy: 62.0000\n",
            "\n",
            "Epoch [12] Average training loss: 0.0644, Average training accuracy: 68.0000\n",
            "\n",
            "Epoch [13] Average training loss: 0.0622, Average training accuracy: 76.0000\n",
            "\n",
            "Epoch [14] Average training loss: 0.0603, Average training accuracy: 78.0000\n",
            "\n",
            "Epoch [15] Average training loss: 0.0585, Average training accuracy: 86.0000\n",
            "\n",
            "Epoch [16] Average training loss: 0.0566, Average training accuracy: 88.0000\n",
            "\n",
            "Epoch [17] Average training loss: 0.0549, Average training accuracy: 86.0000\n",
            "\n",
            "Epoch [18] Average training loss: 0.0533, Average training accuracy: 88.0000\n",
            "\n",
            "Epoch [19] Average training loss: 0.0519, Average training accuracy: 92.0000\n"
          ]
        }
      ]
    },
    {
      "cell_type": "code",
      "source": [
        "# Test your model using test function you've implemented in solver.py\n",
        "test(reluMLP, test_dataloader, device)"
      ],
      "metadata": {
        "colab": {
          "base_uri": "https://localhost:8080/"
        },
        "id": "b2kTPI-Kd1_N",
        "outputId": "8193111c-cbd3-446c-de29-b0b5f5a83777"
      },
      "execution_count": 18,
      "outputs": [
        {
          "output_type": "stream",
          "name": "stdout",
          "text": [
            "The test accuracy is 38.6482.\n",
            "\n"
          ]
        }
      ]
    },
    {
      "cell_type": "code",
      "source": [
        "from layers import DropoutLayer\n",
        "\n",
        "#TODO: add DropoutLayer to your model\n",
        "reluMLP = nn.Sequential(\n",
        "    FCLayer(784, 512),\n",
        "    ReLULayer(),\n",
        "    DropoutLayer(0.5),\n",
        "    FCLayer(512, 256),\n",
        "    ReLULayer(),\n",
        "    DropoutLayer(0.5),\n",
        "    FCLayer(256, 128),\n",
        "    ReLULayer(),\n",
        "    DropoutLayer(0.5),\n",
        "    FCLayer(128, 10)\n",
        ")\n",
        "\n",
        "# Initialize optimizer\n",
        "sgd = SGD(reluMLP.parameters(), learning_rate=0.01)\n",
        "\n",
        "# Train the model\n",
        "reluMLP = train(reluMLP, criterion, sgd, train_dataloader, num_epoch, device=device)"
      ],
      "metadata": {
        "id": "BeCfvh6Jr7Om",
        "colab": {
          "base_uri": "https://localhost:8080/"
        },
        "outputId": "e46cf0d5-8122-4e9e-900d-e713808ab7d9"
      },
      "execution_count": 21,
      "outputs": [
        {
          "output_type": "stream",
          "name": "stdout",
          "text": [
            "\n",
            "Epoch [0] Average training loss: 0.5423, Average training accuracy: 8.0000\n",
            "\n",
            "Epoch [1] Average training loss: 0.3831, Average training accuracy: 12.0000\n",
            "\n",
            "Epoch [2] Average training loss: 0.3081, Average training accuracy: 16.0000\n",
            "\n",
            "Epoch [3] Average training loss: 0.2414, Average training accuracy: 14.0000\n",
            "\n",
            "Epoch [4] Average training loss: 0.2372, Average training accuracy: 10.0000\n",
            "\n",
            "Epoch [5] Average training loss: 0.2158, Average training accuracy: 8.0000\n",
            "\n",
            "Epoch [6] Average training loss: 0.2397, Average training accuracy: 0.0000\n",
            "\n",
            "Epoch [7] Average training loss: 0.1888, Average training accuracy: 8.0000\n",
            "\n",
            "Epoch [8] Average training loss: 0.1747, Average training accuracy: 14.0000\n",
            "\n",
            "Epoch [9] Average training loss: 0.1816, Average training accuracy: 18.0000\n",
            "\n",
            "Epoch [10] Average training loss: 0.1622, Average training accuracy: 10.0000\n",
            "\n",
            "Epoch [11] Average training loss: 0.1727, Average training accuracy: 16.0000\n",
            "\n",
            "Epoch [12] Average training loss: 0.1619, Average training accuracy: 14.0000\n",
            "\n",
            "Epoch [13] Average training loss: 0.1682, Average training accuracy: 12.0000\n",
            "\n",
            "Epoch [14] Average training loss: 0.1535, Average training accuracy: 16.0000\n",
            "\n",
            "Epoch [15] Average training loss: 0.1471, Average training accuracy: 16.0000\n",
            "\n",
            "Epoch [16] Average training loss: 0.1330, Average training accuracy: 18.0000\n",
            "\n",
            "Epoch [17] Average training loss: 0.1345, Average training accuracy: 12.0000\n",
            "\n",
            "Epoch [18] Average training loss: 0.1375, Average training accuracy: 14.0000\n",
            "\n",
            "Epoch [19] Average training loss: 0.1310, Average training accuracy: 12.0000\n"
          ]
        }
      ]
    },
    {
      "cell_type": "code",
      "source": [
        "# Test your model using test function you've implemented in solver.py\n",
        "test(reluMLP, test_dataloader, device)"
      ],
      "metadata": {
        "colab": {
          "base_uri": "https://localhost:8080/"
        },
        "id": "_qzLBH_od2x2",
        "outputId": "c8421eab-9741-4cdd-be77-5a5d82c9df48"
      },
      "execution_count": 22,
      "outputs": [
        {
          "output_type": "stream",
          "name": "stdout",
          "text": [
            "The test accuracy is 15.0359.\n",
            "\n"
          ]
        }
      ]
    },
    {
      "cell_type": "markdown",
      "source": [
        "Without the Dropout layer, the training accuracy is 90% but the test accuracy is 30%, which is the result of overfitting. However, by adding dropout layer, both the train and test accuracy increases with the same pace, avoiding overfitting."
      ],
      "metadata": {
        "id": "IDbBR4BYfLht"
      }
    }
  ]
}