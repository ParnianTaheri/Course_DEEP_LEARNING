{
  "cells": [
    {
      "cell_type": "markdown",
      "metadata": {
        "id": "dTNGvUCNAEAV"
      },
      "source": [
        "# **Deep Learning Course**\n",
        "\n",
        "## **Loss Functions and Multilayer Perceptrons (MLP)**\n",
        "\n",
        "---\n",
        "\n",
        "### **Student Information:**\n",
        "\n",
        "- **Name:** Parnian Taheri\n",
        "- **Student Number:** 99106352\n",
        "\n",
        "---\n",
        "\n",
        "### **Assignment Overview**\n",
        "\n",
        "In this notebook, we will explore various loss functions used in neural networks, with a specific focus on their role in training **Multilayer Perceptrons (MLPs)**. By the end of this notebook, you will have a deeper understanding of:\n",
        "- Types of loss functions\n",
        "- How loss functions affect the training process\n",
        "- The relationship between loss functions and model optimization in MLPs\n",
        "\n",
        "---\n",
        "\n",
        "### **Table of Contents**\n",
        "\n",
        "1. Introduction to Loss Functions\n",
        "2. Types of Loss Functions\n",
        "3. Multilayer Perceptrons (MLP)\n",
        "4. Implementing Loss Functions in MLP\n",
        "5. Conclusion\n",
        "\n",
        "---\n",
        "\n"
      ]
    },
    {
      "cell_type": "markdown",
      "metadata": {
        "id": "BuQzXKahAEAX"
      },
      "source": [
        "# 1.Introduction to Loss Functions\n",
        "\n",
        "In deep learning, **loss functions** play a crucial role in training models by quantifying the difference between the predicted outputs and the actual targets. Selecting the appropriate loss function is essential for the success of your model. In this assay, we will explore various loss functions available in PyTorch, understand their theoretical backgrounds, and provide you with a scaffolded class to experiment with these loss functions.\n",
        "\n",
        "Before begining, let's train a simle MLP model using the **L1Loss** function. We'll return to this model later to experiment with different loss functions. We'll start by importing the necessary libraries and defining the model architecture.\n",
        "\n",
        "First things first, let's talk about **L1Loss**.\n",
        "\n",
        "### 1. L1Loss (`torch.nn.L1Loss`)\n",
        "- **Description:** Also known as Mean Absolute Error (MAE), L1Loss computes the average absolute difference between the predicted values and the target values.\n",
        "- **Use Case:** Suitable for regression tasks where robustness to outliers is desired.\n",
        "\n",
        "Here is the mathematical formulation of L1Loss:\n",
        "\\begin{equation}\n",
        "\\text{L1Loss} = \\frac{1}{n} \\sum_{i=1}^{n} |y_{\\text{pred}_i} - y_{\\text{true}_i}|\n",
        "\\end{equation}\n",
        "\n",
        "Let's implement a simple MLP model using the L1Loss function."
      ]
    },
    {
      "cell_type": "code",
      "execution_count": 113,
      "metadata": {
        "id": "JDVTJtEQAEAX"
      },
      "outputs": [],
      "source": [
        "import torch\n",
        "import torch.nn as nn\n",
        "import torch.optim as optim\n",
        "import pandas as pd\n",
        "from torch.utils.data import TensorDataset, DataLoader\n",
        "from sklearn.model_selection import train_test_split\n",
        "from torch.optim import Adam\n",
        "from tqdm import tqdm\n",
        "import matplotlib.pyplot as plt\n",
        "# Don't be courious about Adam, it's just a fancy name for a fancy optimization algorithm"
      ]
    },
    {
      "cell_type": "markdown",
      "metadata": {
        "id": "Y8iLlAuOAEAY"
      },
      "source": [
        "Here, we'll define a class called `SimpleMLP` that inherits from `nn.Module`. This class can have multiple layers, and we'll use the `nn.Sequential` module to define the layers of the model. The model will have the following architecture:"
      ]
    },
    {
      "cell_type": "code",
      "execution_count": 114,
      "metadata": {
        "id": "Gby_kQ6CAEAZ"
      },
      "outputs": [],
      "source": [
        "class SimpleMLP(nn.Module):\n",
        "    def __init__(self, input_dim, hidden_dim, output_dim, num_hidden_layers=1, last_layer_activation_fn=nn.ReLU):\n",
        "        super(SimpleMLP, self).__init__()\n",
        "        layers = []\n",
        "\n",
        "        # Input layer\n",
        "        layers.append(nn.Linear(input_dim, hidden_dim))\n",
        "        layers.append(nn.ReLU())\n",
        "\n",
        "        # Hidden layers\n",
        "        for _ in range(num_hidden_layers - 1):\n",
        "            layers.append(nn.Linear(hidden_dim, hidden_dim))\n",
        "            layers.append(nn.ReLU())\n",
        "\n",
        "        # Output layer\n",
        "        layers.append(nn.Linear(hidden_dim, output_dim))\n",
        "        layers.append(last_layer_activation_fn(dim=1) if last_layer_activation_fn == nn.LogSoftmax else last_layer_activation_fn())\n",
        "\n",
        "        self.network = nn.Sequential(*layers)\n",
        "\n",
        "    def forward(self, x):\n",
        "        return self.network(x)"
      ]
    },
    {
      "cell_type": "markdown",
      "metadata": {
        "id": "_wASno9WAEAZ"
      },
      "source": [
        "Now, let's define a class called `SimpleMLP_Loss` that has the following architecture:"
      ]
    },
    {
      "cell_type": "code",
      "execution_count": 115,
      "metadata": {
        "id": "7wyHG7nGGgng"
      },
      "outputs": [],
      "source": [
        "class SimpleMLPTrainer:\n",
        "    def __init__(self, model, criterion, optimizer):\n",
        "        self.model = model\n",
        "        self.criterion = criterion\n",
        "        self.optimizer = optimizer\n",
        "\n",
        "    def train(self, train_loader, num_epochs):\n",
        "        self.model.train()\n",
        "        epoch_losses = []\n",
        "        epoch_accuracies = []\n",
        "\n",
        "        for epoch in range(num_epochs):\n",
        "            running_loss = 0.0\n",
        "            correct_predictions = 0\n",
        "            total_predictions = 0\n",
        "\n",
        "            progress_bar = tqdm(train_loader, desc=f\"Epoch {epoch + 1}/{num_epochs}\")\n",
        "\n",
        "            for inputs, targets in progress_bar:\n",
        "                inputs, targets = inputs.to(device), targets.to(device)\n",
        "\n",
        "                predictions = self.model(inputs)\n",
        "\n",
        "                loss = self.criterion(predictions, targets)\n",
        "\n",
        "                self.optimizer.zero_grad()\n",
        "                loss.backward()\n",
        "                self.optimizer.step()\n",
        "\n",
        "                running_loss += loss.item()\n",
        "\n",
        "                if predictions.shape[-1] == 1:  # Binary classification or regression\n",
        "                    correct_predictions += ((predictions > 0.5) == targets).sum().item()\n",
        "                else:  # Multi-class classification\n",
        "                    _, predicted_classes = predictions.max(1)\n",
        "                    predicted_classes = predicted_classes.view(-1,1)\n",
        "                    correct_predictions += (predicted_classes == targets).sum().item()\n",
        "                total_predictions += targets.size(0)\n",
        "\n",
        "                progress_bar.set_postfix(loss=loss.item())\n",
        "\n",
        "            epoch_loss = running_loss / len(train_loader)\n",
        "            epoch_accuracy = correct_predictions / total_predictions * 100\n",
        "            epoch_losses.append(epoch_loss)\n",
        "            epoch_accuracies.append(epoch_accuracy)\n",
        "\n",
        "            print(f\"Epoch [{epoch + 1}/{num_epochs}], Training Loss: {epoch_loss:.4f}, Training Accuracy: {epoch_accuracy:.2f}%\")\n",
        "\n",
        "        return epoch_losses, epoch_accuracies\n",
        "\n",
        "    def evaluate(self, val_loader):\n",
        "        self.model.eval()\n",
        "        val_loss = 0.0\n",
        "        correct_predictions = 0\n",
        "        total_predictions = 0\n",
        "        with torch.no_grad():\n",
        "            for inputs, targets in val_loader:\n",
        "                inputs, targets = inputs.to(device), targets.to(device)\n",
        "\n",
        "                predictions = self.model(inputs)\n",
        "                loss = self.criterion(predictions, targets)\n",
        "\n",
        "                val_loss += loss.item()\n",
        "\n",
        "                if predictions.shape[-1] == 1:  # Binary classification or regression\n",
        "                    correct_predictions += ((predictions > 0.5) == targets).sum().item()\n",
        "                else:  # Multi-class classification\n",
        "                    _, predicted_classes = predictions.max(1)\n",
        "                    predicted_classes = predicted_classes.view(-1,1)\n",
        "                    correct_predictions += (predicted_classes == targets).sum().item()\n",
        "                total_predictions += targets.size(0)\n",
        "\n",
        "        avg_val_loss = val_loss / len(val_loader)\n",
        "        accuracy = correct_predictions / total_predictions * 100\n",
        "\n",
        "        print(f\"Validation Loss: {avg_val_loss:.4f}, Validation Accuracy: {accuracy:.2f}%\")\n",
        "\n",
        "        return avg_val_loss, accuracy"
      ]
    },
    {
      "cell_type": "markdown",
      "metadata": {
        "id": "tksDmLsdAEAa"
      },
      "source": [
        "Next, lets test our model using the L1Loss function. You'll use <span style=\"color:red\">*Titanic Dataset*</span> to train the model.\n"
      ]
    },
    {
      "cell_type": "code",
      "execution_count": 116,
      "metadata": {
        "id": "dLNSaJwLAEAa"
      },
      "outputs": [],
      "source": [
        "# Load dataset\n",
        "device = torch.device(\"cuda\" if torch.cuda.is_available() else \"cpu\")\n",
        "\n",
        "train_url = \"https://raw.githubusercontent.com/datasciencedojo/datasets/master/titanic.csv\"\n",
        "data = pd.read_csv(train_url)\n",
        "\n",
        "# Preprocessing (simple example)\n",
        "data = data[['Pclass', 'Sex', 'Age', 'Fare', 'Survived']].dropna()\n",
        "data['Sex'] = data['Sex'].map({'male': 0, 'female': 1})\n",
        "\n",
        "# TODO: Convert the data to PyTorch tensors and create a DataLoader\n",
        "X = data[['Pclass', 'Sex', 'Age', 'Fare']].values\n",
        "y = data['Survived'].values\n",
        "# TODO: Split the data into training and validation sets\n",
        "X_train, X_val, y_train, y_val = train_test_split(X, y, test_size=0.2, random_state=42)\n",
        "\n",
        "X_train = torch.tensor(X_train, dtype=torch.float32)\n",
        "y_train = torch.tensor(y_train, dtype=torch.float32).view(-1, 1)\n",
        "X_val = torch.tensor(X_val, dtype=torch.float32)\n",
        "y_val = torch.tensor(y_val, dtype=torch.float32).view(-1, 1)\n",
        "\n",
        "train_data = TensorDataset(X_train, y_train)\n",
        "val_data = TensorDataset(X_val, y_val)\n",
        "\n",
        "batch_size = 32\n",
        "train_loader = DataLoader(train_data, batch_size=batch_size, shuffle=True, drop_last=True)\n",
        "val_loader = DataLoader(val_data, batch_size=batch_size, shuffle=False, drop_last=True)\n",
        "\n",
        "# TODO: Define the model, criterion, and optimizer\n",
        "input_dim = 4\n",
        "hidden_dim = 10\n",
        "output_dim = 1\n",
        "num_hidden_layers = 2\n",
        "model = SimpleMLP(input_dim, hidden_dim, output_dim, num_hidden_layers).to(device)\n",
        "\n",
        "# Loss function and optimizer\n",
        "criterion = nn.L1Loss()\n",
        "optimizer = torch.optim.Adam(model.parameters(), lr=0.001)\n"
      ]
    },
    {
      "cell_type": "markdown",
      "metadata": {
        "id": "j6llX8LiAEAa"
      },
      "source": [
        "<div style=\"text-align: center;\"> <span style=\"color:red; font-size: 26px; font-weight: bold;\">Let's train!</span> </div>"
      ]
    },
    {
      "cell_type": "code",
      "execution_count": 117,
      "metadata": {
        "colab": {
          "base_uri": "https://localhost:8080/"
        },
        "id": "IJqJXJdSAEAb",
        "outputId": "857e239f-c5ae-49e2-bff7-692050241940"
      },
      "outputs": [
        {
          "output_type": "stream",
          "name": "stderr",
          "text": [
            "Epoch 1/20: 100%|██████████| 17/17 [00:00<00:00, 158.44it/s, loss=0.344]\n"
          ]
        },
        {
          "output_type": "stream",
          "name": "stdout",
          "text": [
            "Epoch [1/20], Training Loss: 0.4136, Training Accuracy: 58.64%\n"
          ]
        },
        {
          "output_type": "stream",
          "name": "stderr",
          "text": [
            "Epoch 2/20: 100%|██████████| 17/17 [00:00<00:00, 151.50it/s, loss=0.375]\n"
          ]
        },
        {
          "output_type": "stream",
          "name": "stdout",
          "text": [
            "Epoch [2/20], Training Loss: 0.4062, Training Accuracy: 59.38%\n"
          ]
        },
        {
          "output_type": "stream",
          "name": "stderr",
          "text": [
            "Epoch 3/20: 100%|██████████| 17/17 [00:00<00:00, 171.62it/s, loss=0.281]\n"
          ]
        },
        {
          "output_type": "stream",
          "name": "stdout",
          "text": [
            "Epoch [3/20], Training Loss: 0.4081, Training Accuracy: 59.19%\n"
          ]
        },
        {
          "output_type": "stream",
          "name": "stderr",
          "text": [
            "Epoch 4/20: 100%|██████████| 17/17 [00:00<00:00, 178.81it/s, loss=0.438]\n"
          ]
        },
        {
          "output_type": "stream",
          "name": "stdout",
          "text": [
            "Epoch [4/20], Training Loss: 0.4044, Training Accuracy: 59.56%\n"
          ]
        },
        {
          "output_type": "stream",
          "name": "stderr",
          "text": [
            "Epoch 5/20: 100%|██████████| 17/17 [00:00<00:00, 155.93it/s, loss=0.469]\n"
          ]
        },
        {
          "output_type": "stream",
          "name": "stdout",
          "text": [
            "Epoch [5/20], Training Loss: 0.4118, Training Accuracy: 58.82%\n"
          ]
        },
        {
          "output_type": "stream",
          "name": "stderr",
          "text": [
            "Epoch 6/20: 100%|██████████| 17/17 [00:00<00:00, 150.69it/s, loss=0.562]\n"
          ]
        },
        {
          "output_type": "stream",
          "name": "stdout",
          "text": [
            "Epoch [6/20], Training Loss: 0.4044, Training Accuracy: 59.56%\n"
          ]
        },
        {
          "output_type": "stream",
          "name": "stderr",
          "text": [
            "Epoch 7/20: 100%|██████████| 17/17 [00:00<00:00, 153.56it/s, loss=0.438]\n"
          ]
        },
        {
          "output_type": "stream",
          "name": "stdout",
          "text": [
            "Epoch [7/20], Training Loss: 0.4026, Training Accuracy: 59.74%\n"
          ]
        },
        {
          "output_type": "stream",
          "name": "stderr",
          "text": [
            "Epoch 8/20: 100%|██████████| 17/17 [00:00<00:00, 146.92it/s, loss=0.469]\n"
          ]
        },
        {
          "output_type": "stream",
          "name": "stdout",
          "text": [
            "Epoch [8/20], Training Loss: 0.4081, Training Accuracy: 59.19%\n"
          ]
        },
        {
          "output_type": "stream",
          "name": "stderr",
          "text": [
            "Epoch 9/20: 100%|██████████| 17/17 [00:00<00:00, 125.06it/s, loss=0.344]\n"
          ]
        },
        {
          "output_type": "stream",
          "name": "stdout",
          "text": [
            "Epoch [9/20], Training Loss: 0.4154, Training Accuracy: 58.46%\n"
          ]
        },
        {
          "output_type": "stream",
          "name": "stderr",
          "text": [
            "Epoch 10/20: 100%|██████████| 17/17 [00:00<00:00, 60.52it/s, loss=0.5]\n"
          ]
        },
        {
          "output_type": "stream",
          "name": "stdout",
          "text": [
            "Epoch [10/20], Training Loss: 0.4081, Training Accuracy: 59.19%\n"
          ]
        },
        {
          "output_type": "stream",
          "name": "stderr",
          "text": [
            "Epoch 11/20: 100%|██████████| 17/17 [00:00<00:00, 64.56it/s, loss=0.469]\n"
          ]
        },
        {
          "output_type": "stream",
          "name": "stdout",
          "text": [
            "Epoch [11/20], Training Loss: 0.4081, Training Accuracy: 59.19%\n"
          ]
        },
        {
          "output_type": "stream",
          "name": "stderr",
          "text": [
            "Epoch 12/20: 100%|██████████| 17/17 [00:00<00:00, 65.89it/s, loss=0.219]\n"
          ]
        },
        {
          "output_type": "stream",
          "name": "stdout",
          "text": [
            "Epoch [12/20], Training Loss: 0.4118, Training Accuracy: 58.82%\n"
          ]
        },
        {
          "output_type": "stream",
          "name": "stderr",
          "text": [
            "Epoch 13/20: 100%|██████████| 17/17 [00:00<00:00, 103.79it/s, loss=0.406]\n"
          ]
        },
        {
          "output_type": "stream",
          "name": "stdout",
          "text": [
            "Epoch [13/20], Training Loss: 0.4118, Training Accuracy: 58.82%\n"
          ]
        },
        {
          "output_type": "stream",
          "name": "stderr",
          "text": [
            "Epoch 14/20: 100%|██████████| 17/17 [00:00<00:00, 121.80it/s, loss=0.531]\n"
          ]
        },
        {
          "output_type": "stream",
          "name": "stdout",
          "text": [
            "Epoch [14/20], Training Loss: 0.4099, Training Accuracy: 59.01%\n"
          ]
        },
        {
          "output_type": "stream",
          "name": "stderr",
          "text": [
            "Epoch 15/20: 100%|██████████| 17/17 [00:00<00:00, 94.25it/s, loss=0.406]\n"
          ]
        },
        {
          "output_type": "stream",
          "name": "stdout",
          "text": [
            "Epoch [15/20], Training Loss: 0.4081, Training Accuracy: 59.19%\n"
          ]
        },
        {
          "output_type": "stream",
          "name": "stderr",
          "text": [
            "Epoch 16/20: 100%|██████████| 17/17 [00:00<00:00, 111.91it/s, loss=0.344]\n"
          ]
        },
        {
          "output_type": "stream",
          "name": "stdout",
          "text": [
            "Epoch [16/20], Training Loss: 0.4118, Training Accuracy: 58.82%\n"
          ]
        },
        {
          "output_type": "stream",
          "name": "stderr",
          "text": [
            "Epoch 17/20: 100%|██████████| 17/17 [00:00<00:00, 102.21it/s, loss=0.281]\n"
          ]
        },
        {
          "output_type": "stream",
          "name": "stdout",
          "text": [
            "Epoch [17/20], Training Loss: 0.4173, Training Accuracy: 58.27%\n"
          ]
        },
        {
          "output_type": "stream",
          "name": "stderr",
          "text": [
            "Epoch 18/20: 100%|██████████| 17/17 [00:00<00:00, 125.13it/s, loss=0.219]\n"
          ]
        },
        {
          "output_type": "stream",
          "name": "stdout",
          "text": [
            "Epoch [18/20], Training Loss: 0.4062, Training Accuracy: 59.38%\n"
          ]
        },
        {
          "output_type": "stream",
          "name": "stderr",
          "text": [
            "Epoch 19/20: 100%|██████████| 17/17 [00:00<00:00, 103.93it/s, loss=0.469]\n"
          ]
        },
        {
          "output_type": "stream",
          "name": "stdout",
          "text": [
            "Epoch [19/20], Training Loss: 0.4118, Training Accuracy: 58.82%\n"
          ]
        },
        {
          "output_type": "stream",
          "name": "stderr",
          "text": [
            "Epoch 20/20: 100%|██████████| 17/17 [00:00<00:00, 110.55it/s, loss=0.281]\n"
          ]
        },
        {
          "output_type": "stream",
          "name": "stdout",
          "text": [
            "Epoch [20/20], Training Loss: 0.4118, Training Accuracy: 58.82%\n",
            "Validation Loss: 0.3906, Validation Accuracy: 60.94%\n"
          ]
        }
      ],
      "source": [
        "from torch.nn import L1Loss\n",
        "input_dim = 4\n",
        "hidden_dim = 10\n",
        "output_dim = 1\n",
        "num_hidden_layers = 2\n",
        "model = SimpleMLP(input_dim, hidden_dim, output_dim, num_hidden_layers).to(device)\n",
        "\n",
        "# Loss function and optimizer\n",
        "criterion = nn.L1Loss()\n",
        "optimizer = torch.optim.Adam(model.parameters(), lr=0.001)\n",
        "trainer = SimpleMLPTrainer(model, criterion, optimizer)\n",
        "\n",
        "# Train the model\n",
        "train_loss, train_acc = trainer.train(train_loader, num_epochs=20)\n",
        "\n",
        "# Evaluate the model\n",
        "test_loss, test_acc = trainer.evaluate(val_loader)"
      ]
    },
    {
      "cell_type": "code",
      "source": [
        "plt.figure(figsize=(8,4))\n",
        "plt.subplot(1,2,1)\n",
        "plt.plot(train_acc)\n",
        "plt.xlabel(\"Epochs\")\n",
        "plt.ylabel(\"Accuracy\")\n",
        "plt.subplot(1,2,2)\n",
        "plt.plot(train_loss)\n",
        "plt.xlabel(\"Epochs\")\n",
        "plt.ylabel(\"Loss\")\n",
        "\n",
        "plt.suptitle(\"Accuracy & Loss of MSELoss\")\n",
        "plt.tight_layout()\n",
        "plt.show()"
      ],
      "metadata": {
        "colab": {
          "base_uri": "https://localhost:8080/",
          "height": 332
        },
        "id": "UTcMtLsRf-Cw",
        "outputId": "c17dab44-05d8-4596-d25f-fe3d5198c60f"
      },
      "execution_count": 118,
      "outputs": [
        {
          "output_type": "display_data",
          "data": {
            "text/plain": [
              "<Figure size 800x400 with 2 Axes>"
            ],
            "image/png": "[encoded data removed]"
          },
          "metadata": {}
        }
      ]
    },
    {
      "cell_type": "markdown",
      "metadata": {
        "id": "EDvvtV3aAEAb"
      },
      "source": [
        "---\n",
        "# 2. Types of Loss Functions\n",
        "\n",
        "PyTorch offers a variety of built-in loss functions tailored for different types of problems, such as regression, classification, and more. Below, we discuss several commonly used loss functions, their theoretical foundations, and typical use cases.\n",
        "\n",
        "### 2. MSELoss (`torch.nn.MSELoss`)\n",
        "- **Description:** Mean Squared Error (MSE) calculates the average of the squares of the differences between predicted and target values.\n",
        "- **Use Case:** Commonly used in regression problems where larger errors are significantly penalized.\n",
        "\n",
        "Here is boring math stuff for MSE:\n",
        "\\begin{equation}\n",
        "\\text{MSE} = \\frac{1}{n} \\sum_{i=1}^{n} (y_{i} - \\hat{y}_{i})^{2}\n",
        "\\end{equation}\n",
        "\n",
        "<span style=\"color:red; font-size: 18px; font-weight: bold;\">Warning:</span> Don't forget to reinitialize the model before experimenting with different loss functions."
      ]
    },
    {
      "cell_type": "code",
      "execution_count": 119,
      "metadata": {
        "colab": {
          "base_uri": "https://localhost:8080/"
        },
        "id": "PtFehq_bAEAb",
        "outputId": "ac18d329-8cda-4c19-d232-17320c8aaf06"
      },
      "outputs": [
        {
          "output_type": "stream",
          "name": "stderr",
          "text": [
            "Epoch 1/20: 100%|██████████| 17/17 [00:00<00:00, 103.49it/s, loss=0.275]\n"
          ]
        },
        {
          "output_type": "stream",
          "name": "stdout",
          "text": [
            "Epoch [1/20], Training Loss: 0.2892, Training Accuracy: 60.48%\n"
          ]
        },
        {
          "output_type": "stream",
          "name": "stderr",
          "text": [
            "Epoch 2/20: 100%|██████████| 17/17 [00:00<00:00, 78.34it/s, loss=0.203]\n"
          ]
        },
        {
          "output_type": "stream",
          "name": "stdout",
          "text": [
            "Epoch [2/20], Training Loss: 0.2322, Training Accuracy: 65.26%\n"
          ]
        },
        {
          "output_type": "stream",
          "name": "stderr",
          "text": [
            "Epoch 3/20: 100%|██████████| 17/17 [00:00<00:00, 76.63it/s, loss=0.179]\n"
          ]
        },
        {
          "output_type": "stream",
          "name": "stdout",
          "text": [
            "Epoch [3/20], Training Loss: 0.2140, Training Accuracy: 66.91%\n"
          ]
        },
        {
          "output_type": "stream",
          "name": "stderr",
          "text": [
            "Epoch 4/20: 100%|██████████| 17/17 [00:00<00:00, 39.25it/s, loss=0.174]\n"
          ]
        },
        {
          "output_type": "stream",
          "name": "stdout",
          "text": [
            "Epoch [4/20], Training Loss: 0.2142, Training Accuracy: 66.54%\n"
          ]
        },
        {
          "output_type": "stream",
          "name": "stderr",
          "text": [
            "Epoch 5/20: 100%|██████████| 17/17 [00:00<00:00, 55.46it/s, loss=0.14]\n"
          ]
        },
        {
          "output_type": "stream",
          "name": "stdout",
          "text": [
            "Epoch [5/20], Training Loss: 0.2089, Training Accuracy: 66.73%\n"
          ]
        },
        {
          "output_type": "stream",
          "name": "stderr",
          "text": [
            "Epoch 6/20: 100%|██████████| 17/17 [00:00<00:00, 69.28it/s, loss=0.178]\n"
          ]
        },
        {
          "output_type": "stream",
          "name": "stdout",
          "text": [
            "Epoch [6/20], Training Loss: 0.2073, Training Accuracy: 65.07%\n"
          ]
        },
        {
          "output_type": "stream",
          "name": "stderr",
          "text": [
            "Epoch 7/20: 100%|██████████| 17/17 [00:00<00:00, 67.19it/s, loss=0.223]\n"
          ]
        },
        {
          "output_type": "stream",
          "name": "stdout",
          "text": [
            "Epoch [7/20], Training Loss: 0.2039, Training Accuracy: 65.81%\n"
          ]
        },
        {
          "output_type": "stream",
          "name": "stderr",
          "text": [
            "Epoch 8/20: 100%|██████████| 17/17 [00:00<00:00, 95.84it/s, loss=0.21]\n"
          ]
        },
        {
          "output_type": "stream",
          "name": "stdout",
          "text": [
            "Epoch [8/20], Training Loss: 0.2023, Training Accuracy: 68.20%\n"
          ]
        },
        {
          "output_type": "stream",
          "name": "stderr",
          "text": [
            "Epoch 9/20: 100%|██████████| 17/17 [00:00<00:00, 34.71it/s, loss=0.204]\n"
          ]
        },
        {
          "output_type": "stream",
          "name": "stdout",
          "text": [
            "Epoch [9/20], Training Loss: 0.2062, Training Accuracy: 68.75%\n"
          ]
        },
        {
          "output_type": "stream",
          "name": "stderr",
          "text": [
            "Epoch 10/20: 100%|██████████| 17/17 [00:00<00:00, 47.08it/s, loss=0.209]\n"
          ]
        },
        {
          "output_type": "stream",
          "name": "stdout",
          "text": [
            "Epoch [10/20], Training Loss: 0.2027, Training Accuracy: 69.85%\n"
          ]
        },
        {
          "output_type": "stream",
          "name": "stderr",
          "text": [
            "Epoch 11/20: 100%|██████████| 17/17 [00:00<00:00, 30.08it/s, loss=0.224]\n"
          ]
        },
        {
          "output_type": "stream",
          "name": "stdout",
          "text": [
            "Epoch [11/20], Training Loss: 0.2089, Training Accuracy: 67.10%\n"
          ]
        },
        {
          "output_type": "stream",
          "name": "stderr",
          "text": [
            "Epoch 12/20: 100%|██████████| 17/17 [00:00<00:00, 29.49it/s, loss=0.2]\n"
          ]
        },
        {
          "output_type": "stream",
          "name": "stdout",
          "text": [
            "Epoch [12/20], Training Loss: 0.2013, Training Accuracy: 68.93%\n"
          ]
        },
        {
          "output_type": "stream",
          "name": "stderr",
          "text": [
            "Epoch 13/20: 100%|██████████| 17/17 [00:00<00:00, 36.24it/s, loss=0.198]\n"
          ]
        },
        {
          "output_type": "stream",
          "name": "stdout",
          "text": [
            "Epoch [13/20], Training Loss: 0.2047, Training Accuracy: 69.30%\n"
          ]
        },
        {
          "output_type": "stream",
          "name": "stderr",
          "text": [
            "Epoch 14/20: 100%|██████████| 17/17 [00:00<00:00, 25.75it/s, loss=0.202]\n"
          ]
        },
        {
          "output_type": "stream",
          "name": "stdout",
          "text": [
            "Epoch [14/20], Training Loss: 0.2028, Training Accuracy: 69.49%\n"
          ]
        },
        {
          "output_type": "stream",
          "name": "stderr",
          "text": [
            "Epoch 15/20: 100%|██████████| 17/17 [00:00<00:00, 34.63it/s, loss=0.21]\n"
          ]
        },
        {
          "output_type": "stream",
          "name": "stdout",
          "text": [
            "Epoch [15/20], Training Loss: 0.2003, Training Accuracy: 69.12%\n"
          ]
        },
        {
          "output_type": "stream",
          "name": "stderr",
          "text": [
            "Epoch 16/20: 100%|██████████| 17/17 [00:00<00:00, 75.77it/s, loss=0.241] \n"
          ]
        },
        {
          "output_type": "stream",
          "name": "stdout",
          "text": [
            "Epoch [16/20], Training Loss: 0.2007, Training Accuracy: 70.96%\n"
          ]
        },
        {
          "output_type": "stream",
          "name": "stderr",
          "text": [
            "Epoch 17/20: 100%|██████████| 17/17 [00:00<00:00, 49.47it/s, loss=0.189]\n"
          ]
        },
        {
          "output_type": "stream",
          "name": "stdout",
          "text": [
            "Epoch [17/20], Training Loss: 0.1993, Training Accuracy: 70.22%\n"
          ]
        },
        {
          "output_type": "stream",
          "name": "stderr",
          "text": [
            "Epoch 18/20: 100%|██████████| 17/17 [00:00<00:00, 52.47it/s, loss=0.206]\n"
          ]
        },
        {
          "output_type": "stream",
          "name": "stdout",
          "text": [
            "Epoch [18/20], Training Loss: 0.1976, Training Accuracy: 71.88%\n"
          ]
        },
        {
          "output_type": "stream",
          "name": "stderr",
          "text": [
            "Epoch 19/20: 100%|██████████| 17/17 [00:00<00:00, 40.73it/s, loss=0.181]\n"
          ]
        },
        {
          "output_type": "stream",
          "name": "stdout",
          "text": [
            "Epoch [19/20], Training Loss: 0.2024, Training Accuracy: 69.85%\n"
          ]
        },
        {
          "output_type": "stream",
          "name": "stderr",
          "text": [
            "Epoch 20/20: 100%|██████████| 17/17 [00:00<00:00, 57.13it/s, loss=0.24]\n"
          ]
        },
        {
          "output_type": "stream",
          "name": "stdout",
          "text": [
            "Epoch [20/20], Training Loss: 0.1992, Training Accuracy: 70.04%\n",
            "Validation Loss: 0.2293, Validation Accuracy: 64.06%\n"
          ]
        }
      ],
      "source": [
        "from torch.nn import MSELoss\n",
        "input_dim = 4\n",
        "hidden_dim = 20\n",
        "output_dim = 1\n",
        "num_hidden_layers = 5\n",
        "model = SimpleMLP(input_dim, hidden_dim, output_dim, num_hidden_layers).to(device)\n",
        "\n",
        "# Loss function and optimizer\n",
        "criterion = nn.MSELoss()\n",
        "optimizer = torch.optim.Adam(model.parameters(), lr=0.001)\n",
        "trainer = SimpleMLPTrainer(model, criterion, optimizer)\n",
        "\n",
        "# TODO: Train the model\n",
        "train_loss, train_acc = trainer.train(train_loader, num_epochs=20)\n",
        "\n",
        "# Evaluate the model\n",
        "test_loss, test_acc = trainer.evaluate(val_loader)"
      ]
    },
    {
      "cell_type": "code",
      "source": [
        "plt.figure(figsize=(8,4))\n",
        "plt.subplot(1,2,1)\n",
        "plt.plot(train_acc)\n",
        "plt.xlabel(\"Epochs\")\n",
        "plt.ylabel(\"Accuracy\")\n",
        "plt.subplot(1,2,2)\n",
        "plt.plot(train_loss)\n",
        "plt.xlabel(\"Epochs\")\n",
        "plt.ylabel(\"Loss\")\n",
        "\n",
        "plt.suptitle(\"Accuracy & Loss of MSELoss\")\n",
        "plt.tight_layout()\n",
        "plt.show()"
      ],
      "metadata": {
        "colab": {
          "base_uri": "https://localhost:8080/",
          "height": 332
        },
        "id": "TbFEeQwjW7es",
        "outputId": "7fa632e3-4fdd-40db-e570-eab40a36b101"
      },
      "execution_count": 120,
      "outputs": [
        {
          "output_type": "display_data",
          "data": {
            "text/plain": [
              "<Figure size 800x400 with 2 Axes>"
            ],
            "image/png": "[encoded data removed]"
          },
          "metadata": {}
        }
      ]
    },
    {
      "cell_type": "markdown",
      "metadata": {
        "id": "umjGdKvqAEAb"
      },
      "source": [
        "### 3. NLLLoss (`torch.nn.NLLLoss`)\n",
        "- **Description:** Negative Log-Likelihood Loss measures the likelihood of the target class under the predicted probability distribution.\n",
        "- **Use Case:** Typically used in multi-class classification tasks, especially when combined with `log_softmax` activation.\n",
        "\n",
        "Here is the mathematical formulation of NLLLoss:\n",
        "\\begin{equation}\n",
        "\\text{NLLLoss} = -\\frac{1}{n} \\sum_{i=1}^{n} \\log(y_{i})\n",
        "\\end{equation}\n",
        "\n",
        "I hope you note the logarithm in the formula. It's important!\n",
        "\n",
        "Why?\n",
        "\n",
        "Answer: Numerical Stability: The softmax activation produces probabilities close to zero for classes with low likelihoods. Applying a log to these probabilities (which can be very small) prevents numerical underflow and makes the calculations more stable.\n",
        "Interpretability: The logarithm converts multiplicative relationships in probability space into additive relationships, which is more manageable for optimization during training.\n",
        "\n",
        "In this part, run your training with Relu at last layer. <span style=\"color:red; font-weight: bold;\">Discuss </span> and explain the difference between the results of the two models. Find a proper solution to the problem.\n"
      ]
    },
    {
      "cell_type": "markdown",
      "source": [
        "# Need to define new model"
      ],
      "metadata": {
        "id": "HcOH5ZNgKAaV"
      }
    },
    {
      "cell_type": "code",
      "source": [
        "X_train, X_val, y_train, y_val = train_test_split(X, y, test_size=0.2, random_state=42)\n",
        "\n",
        "X_train = torch.tensor(X_train, dtype=torch.float32)\n",
        "y_train = torch.tensor(y_train, dtype=torch.long).view(-1, 1)\n",
        "X_val = torch.tensor(X_val, dtype=torch.float32)\n",
        "y_val = torch.tensor(y_val, dtype=torch.long).view(-1, 1)\n",
        "\n",
        "train_data = TensorDataset(X_train, y_train)\n",
        "val_data = TensorDataset(X_val, y_val)\n",
        "\n",
        "batch_size = 32\n",
        "train_loader = DataLoader(train_data, batch_size=batch_size, shuffle=True, drop_last=True)\n",
        "val_loader = DataLoader(val_data, batch_size=batch_size, shuffle=False, drop_last=True)\n",
        "\n",
        "class SimpleMLPTrainer_NLLLoss:\n",
        "    def __init__(self, model, criterion, optimizer):\n",
        "        self.model = model\n",
        "        self.criterion = criterion\n",
        "        self.optimizer = optimizer\n",
        "\n",
        "    def train(self, train_loader, num_epochs):\n",
        "        self.model.train()\n",
        "        epoch_losses = []\n",
        "        epoch_accuracies = []\n",
        "\n",
        "        for epoch in range(num_epochs):\n",
        "            running_loss = 0.0\n",
        "            correct_predictions = 0\n",
        "            total_predictions = 0\n",
        "\n",
        "            progress_bar = tqdm(train_loader, desc=f\"Epoch {epoch + 1}/{num_epochs}\")\n",
        "\n",
        "            for inputs, targets in progress_bar:\n",
        "                targets = targets.view(-1)\n",
        "                inputs, targets = inputs.to(device), targets.to(device)\n",
        "\n",
        "                predictions = self.model(inputs)\n",
        "\n",
        "                loss = self.criterion(predictions, targets)\n",
        "\n",
        "                self.optimizer.zero_grad()\n",
        "                loss.backward()\n",
        "                self.optimizer.step()\n",
        "\n",
        "                running_loss += loss.item()\n",
        "\n",
        "                if predictions.shape[-1] == 1:  # Binary classification or regression\n",
        "                    correct_predictions += ((predictions > 0.5) == targets).sum().item()\n",
        "                else:  # Multi-class classification\n",
        "                    _, predicted_classes = predictions.max(1)\n",
        "                    correct_predictions += (predicted_classes == targets).sum().item()\n",
        "                total_predictions += targets.size(0)\n",
        "\n",
        "                progress_bar.set_postfix(loss=loss.item())\n",
        "\n",
        "            epoch_loss = running_loss / len(train_loader)\n",
        "            epoch_accuracy = correct_predictions / total_predictions * 100\n",
        "            epoch_losses.append(epoch_loss)\n",
        "            epoch_accuracies.append(epoch_accuracy)\n",
        "\n",
        "            print(f\"Epoch [{epoch + 1}/{num_epochs}], Training Loss: {epoch_loss:.4f}, Training Accuracy: {epoch_accuracy:.2f}%\")\n",
        "\n",
        "        return epoch_losses, epoch_accuracies\n",
        "\n",
        "    def evaluate(self, val_loader):\n",
        "        self.model.eval()\n",
        "        val_loss = 0.0\n",
        "        correct_predictions = 0\n",
        "        total_predictions = 0\n",
        "        with torch.no_grad():\n",
        "            for inputs, targets in val_loader:\n",
        "                targets = targets.view(-1)\n",
        "                inputs, targets = inputs.to(device), targets.to(device)\n",
        "\n",
        "                predictions = self.model(inputs)\n",
        "                loss = self.criterion(predictions, targets)\n",
        "\n",
        "                val_loss += loss.item()\n",
        "\n",
        "                if predictions.shape[-1] == 1:  # Binary classification or regression\n",
        "                    correct_predictions += ((predictions > 0.5) == targets).sum().item()\n",
        "                else:  # Multi-class classification\n",
        "                    _, predicted_classes = predictions.max(1)\n",
        "                    correct_predictions += (predicted_classes == targets).sum().item()\n",
        "                total_predictions += targets.size(0)\n",
        "\n",
        "        avg_val_loss = val_loss / len(val_loader)\n",
        "        accuracy = correct_predictions / total_predictions * 100\n",
        "\n",
        "        print(f\"Validation Loss: {avg_val_loss:.4f}, Validation Accuracy: {accuracy:.2f}%\")\n",
        "\n",
        "        return avg_val_loss, accuracy"
      ],
      "metadata": {
        "id": "hKGQEsGqKAA1"
      },
      "execution_count": 121,
      "outputs": []
    },
    {
      "cell_type": "code",
      "execution_count": 122,
      "metadata": {
        "colab": {
          "base_uri": "https://localhost:8080/"
        },
        "id": "t4uSm_B0AEAb",
        "outputId": "f61f4e72-d405-4103-c0ea-4c42c818da7a"
      },
      "outputs": [
        {
          "output_type": "stream",
          "name": "stderr",
          "text": [
            "Epoch 1/20: 100%|██████████| 17/17 [00:00<00:00, 55.86it/s, loss=-0.854]\n"
          ]
        },
        {
          "output_type": "stream",
          "name": "stdout",
          "text": [
            "Epoch [1/20], Training Loss: -0.8715, Training Accuracy: 12.50%\n"
          ]
        },
        {
          "output_type": "stream",
          "name": "stderr",
          "text": [
            "Epoch 2/20: 100%|██████████| 17/17 [00:00<00:00, 97.52it/s, loss=-3.31] \n"
          ]
        },
        {
          "output_type": "stream",
          "name": "stdout",
          "text": [
            "Epoch [2/20], Training Loss: -2.3836, Training Accuracy: 41.91%\n"
          ]
        },
        {
          "output_type": "stream",
          "name": "stderr",
          "text": [
            "Epoch 3/20: 100%|██████████| 17/17 [00:00<00:00, 145.63it/s, loss=-5.06]\n"
          ]
        },
        {
          "output_type": "stream",
          "name": "stdout",
          "text": [
            "Epoch [3/20], Training Loss: -4.1908, Training Accuracy: 56.25%\n"
          ]
        },
        {
          "output_type": "stream",
          "name": "stderr",
          "text": [
            "Epoch 4/20: 100%|██████████| 17/17 [00:00<00:00, 75.89it/s, loss=-9.17]\n"
          ]
        },
        {
          "output_type": "stream",
          "name": "stdout",
          "text": [
            "Epoch [4/20], Training Loss: -7.2888, Training Accuracy: 58.82%\n"
          ]
        },
        {
          "output_type": "stream",
          "name": "stderr",
          "text": [
            "Epoch 5/20: 100%|██████████| 17/17 [00:00<00:00, 109.03it/s, loss=-18.2]\n"
          ]
        },
        {
          "output_type": "stream",
          "name": "stdout",
          "text": [
            "Epoch [5/20], Training Loss: -11.6538, Training Accuracy: 59.38%\n"
          ]
        },
        {
          "output_type": "stream",
          "name": "stderr",
          "text": [
            "Epoch 6/20: 100%|██████████| 17/17 [00:00<00:00, 36.70it/s, loss=-18.2]\n"
          ]
        },
        {
          "output_type": "stream",
          "name": "stdout",
          "text": [
            "Epoch [6/20], Training Loss: -17.8805, Training Accuracy: 58.64%\n"
          ]
        },
        {
          "output_type": "stream",
          "name": "stderr",
          "text": [
            "Epoch 7/20: 100%|██████████| 17/17 [00:00<00:00, 44.83it/s, loss=-33.4]\n"
          ]
        },
        {
          "output_type": "stream",
          "name": "stdout",
          "text": [
            "Epoch [7/20], Training Loss: -28.4873, Training Accuracy: 59.56%\n"
          ]
        },
        {
          "output_type": "stream",
          "name": "stderr",
          "text": [
            "Epoch 8/20: 100%|██████████| 17/17 [00:00<00:00, 34.83it/s, loss=-58.3]\n"
          ]
        },
        {
          "output_type": "stream",
          "name": "stdout",
          "text": [
            "Epoch [8/20], Training Loss: -43.1495, Training Accuracy: 58.82%\n"
          ]
        },
        {
          "output_type": "stream",
          "name": "stderr",
          "text": [
            "Epoch 9/20: 100%|██████████| 17/17 [00:00<00:00, 39.71it/s, loss=-66.6]\n"
          ]
        },
        {
          "output_type": "stream",
          "name": "stdout",
          "text": [
            "Epoch [9/20], Training Loss: -62.6855, Training Accuracy: 59.19%\n"
          ]
        },
        {
          "output_type": "stream",
          "name": "stderr",
          "text": [
            "Epoch 10/20: 100%|██████████| 17/17 [00:00<00:00, 55.86it/s, loss=-105]\n"
          ]
        },
        {
          "output_type": "stream",
          "name": "stdout",
          "text": [
            "Epoch [10/20], Training Loss: -89.9297, Training Accuracy: 59.56%\n"
          ]
        },
        {
          "output_type": "stream",
          "name": "stderr",
          "text": [
            "Epoch 11/20: 100%|██████████| 17/17 [00:00<00:00, 52.43it/s, loss=-178]\n"
          ]
        },
        {
          "output_type": "stream",
          "name": "stdout",
          "text": [
            "Epoch [11/20], Training Loss: -127.3064, Training Accuracy: 58.64%\n"
          ]
        },
        {
          "output_type": "stream",
          "name": "stderr",
          "text": [
            "Epoch 12/20: 100%|██████████| 17/17 [00:00<00:00, 42.47it/s, loss=-220]\n"
          ]
        },
        {
          "output_type": "stream",
          "name": "stdout",
          "text": [
            "Epoch [12/20], Training Loss: -171.6877, Training Accuracy: 59.19%\n"
          ]
        },
        {
          "output_type": "stream",
          "name": "stderr",
          "text": [
            "Epoch 13/20: 100%|██████████| 17/17 [00:00<00:00, 60.22it/s, loss=-263]\n"
          ]
        },
        {
          "output_type": "stream",
          "name": "stdout",
          "text": [
            "Epoch [13/20], Training Loss: -227.4009, Training Accuracy: 59.01%\n"
          ]
        },
        {
          "output_type": "stream",
          "name": "stderr",
          "text": [
            "Epoch 14/20: 100%|██████████| 17/17 [00:00<00:00, 30.50it/s, loss=-313]\n"
          ]
        },
        {
          "output_type": "stream",
          "name": "stdout",
          "text": [
            "Epoch [14/20], Training Loss: -295.1342, Training Accuracy: 59.01%\n"
          ]
        },
        {
          "output_type": "stream",
          "name": "stderr",
          "text": [
            "Epoch 15/20: 100%|██████████| 17/17 [00:00<00:00, 51.51it/s, loss=-362]\n"
          ]
        },
        {
          "output_type": "stream",
          "name": "stdout",
          "text": [
            "Epoch [15/20], Training Loss: -376.4177, Training Accuracy: 59.01%\n"
          ]
        },
        {
          "output_type": "stream",
          "name": "stderr",
          "text": [
            "Epoch 16/20: 100%|██████████| 17/17 [00:00<00:00, 67.36it/s, loss=-514]\n"
          ]
        },
        {
          "output_type": "stream",
          "name": "stdout",
          "text": [
            "Epoch [16/20], Training Loss: -476.3425, Training Accuracy: 58.82%\n"
          ]
        },
        {
          "output_type": "stream",
          "name": "stderr",
          "text": [
            "Epoch 17/20: 100%|██████████| 17/17 [00:00<00:00, 80.51it/s, loss=-617]\n"
          ]
        },
        {
          "output_type": "stream",
          "name": "stdout",
          "text": [
            "Epoch [17/20], Training Loss: -586.3528, Training Accuracy: 59.56%\n"
          ]
        },
        {
          "output_type": "stream",
          "name": "stderr",
          "text": [
            "Epoch 18/20: 100%|██████████| 17/17 [00:00<00:00, 67.68it/s, loss=-883]\n"
          ]
        },
        {
          "output_type": "stream",
          "name": "stdout",
          "text": [
            "Epoch [18/20], Training Loss: -726.2752, Training Accuracy: 59.01%\n"
          ]
        },
        {
          "output_type": "stream",
          "name": "stderr",
          "text": [
            "Epoch 19/20: 100%|██████████| 17/17 [00:00<00:00, 60.11it/s, loss=-1.04e+3]\n"
          ]
        },
        {
          "output_type": "stream",
          "name": "stdout",
          "text": [
            "Epoch [19/20], Training Loss: -878.8172, Training Accuracy: 58.64%\n"
          ]
        },
        {
          "output_type": "stream",
          "name": "stderr",
          "text": [
            "Epoch 20/20: 100%|██████████| 17/17 [00:00<00:00, 37.62it/s, loss=-1.21e+3]\n"
          ]
        },
        {
          "output_type": "stream",
          "name": "stdout",
          "text": [
            "Epoch [20/20], Training Loss: -1049.8597, Training Accuracy: 59.19%\n",
            "Validation Loss: -1122.9650, Validation Accuracy: 60.94%\n"
          ]
        }
      ],
      "source": [
        "# Run with relu activation function\n",
        "from torch.nn import NLLLoss\n",
        "input_dim = 4\n",
        "hidden_dim = 10\n",
        "output_dim = 4\n",
        "num_hidden_layers = 2\n",
        "model = SimpleMLP(input_dim, hidden_dim, output_dim, num_hidden_layers).to(device)\n",
        "\n",
        "# Loss function and optimizer\n",
        "criterion = nn.NLLLoss()\n",
        "optimizer = torch.optim.Adam(model.parameters(), lr=0.001)\n",
        "trainer = SimpleMLPTrainer_NLLLoss(model, criterion, optimizer)\n",
        "\n",
        "\n",
        "# TODO: Train the model\n",
        "train_loss_relu, train_acc_relu = trainer.train(train_loader, num_epochs=20)\n",
        "\n",
        "# Evaluate the model\n",
        "test_loss_relu, test_acc_relu = trainer.evaluate(val_loader)"
      ]
    },
    {
      "cell_type": "code",
      "execution_count": 123,
      "metadata": {
        "colab": {
          "base_uri": "https://localhost:8080/"
        },
        "id": "WeOvAv8mAEAc",
        "outputId": "12d7c627-cb57-486d-bca1-abb7201d5232"
      },
      "outputs": [
        {
          "output_type": "stream",
          "name": "stderr",
          "text": [
            "Epoch 1/20: 100%|██████████| 17/17 [00:00<00:00, 57.89it/s, loss=1.13]\n"
          ]
        },
        {
          "output_type": "stream",
          "name": "stdout",
          "text": [
            "Epoch [1/20], Training Loss: 1.2646, Training Accuracy: 42.83%\n"
          ]
        },
        {
          "output_type": "stream",
          "name": "stderr",
          "text": [
            "Epoch 2/20: 100%|██████████| 17/17 [00:00<00:00, 49.89it/s, loss=0.746]\n"
          ]
        },
        {
          "output_type": "stream",
          "name": "stdout",
          "text": [
            "Epoch [2/20], Training Loss: 0.8952, Training Accuracy: 62.87%\n"
          ]
        },
        {
          "output_type": "stream",
          "name": "stderr",
          "text": [
            "Epoch 3/20: 100%|██████████| 17/17 [00:00<00:00, 34.33it/s, loss=0.662]\n"
          ]
        },
        {
          "output_type": "stream",
          "name": "stdout",
          "text": [
            "Epoch [3/20], Training Loss: 0.6511, Training Accuracy: 67.10%\n"
          ]
        },
        {
          "output_type": "stream",
          "name": "stderr",
          "text": [
            "Epoch 4/20: 100%|██████████| 17/17 [00:00<00:00, 41.16it/s, loss=0.596]\n"
          ]
        },
        {
          "output_type": "stream",
          "name": "stdout",
          "text": [
            "Epoch [4/20], Training Loss: 0.6218, Training Accuracy: 67.65%\n"
          ]
        },
        {
          "output_type": "stream",
          "name": "stderr",
          "text": [
            "Epoch 5/20: 100%|██████████| 17/17 [00:00<00:00, 24.52it/s, loss=0.645]\n"
          ]
        },
        {
          "output_type": "stream",
          "name": "stdout",
          "text": [
            "Epoch [5/20], Training Loss: 0.6179, Training Accuracy: 68.57%\n"
          ]
        },
        {
          "output_type": "stream",
          "name": "stderr",
          "text": [
            "Epoch 6/20: 100%|██████████| 17/17 [00:00<00:00, 33.59it/s, loss=0.758]\n"
          ]
        },
        {
          "output_type": "stream",
          "name": "stdout",
          "text": [
            "Epoch [6/20], Training Loss: 0.6364, Training Accuracy: 67.83%\n"
          ]
        },
        {
          "output_type": "stream",
          "name": "stderr",
          "text": [
            "Epoch 7/20: 100%|██████████| 17/17 [00:00<00:00, 57.89it/s, loss=0.557]\n"
          ]
        },
        {
          "output_type": "stream",
          "name": "stdout",
          "text": [
            "Epoch [7/20], Training Loss: 0.6151, Training Accuracy: 70.40%\n"
          ]
        },
        {
          "output_type": "stream",
          "name": "stderr",
          "text": [
            "Epoch 8/20: 100%|██████████| 17/17 [00:00<00:00, 85.65it/s, loss=0.541] \n"
          ]
        },
        {
          "output_type": "stream",
          "name": "stdout",
          "text": [
            "Epoch [8/20], Training Loss: 0.6054, Training Accuracy: 69.85%\n"
          ]
        },
        {
          "output_type": "stream",
          "name": "stderr",
          "text": [
            "Epoch 9/20: 100%|██████████| 17/17 [00:00<00:00, 49.12it/s, loss=0.628]\n"
          ]
        },
        {
          "output_type": "stream",
          "name": "stdout",
          "text": [
            "Epoch [9/20], Training Loss: 0.6076, Training Accuracy: 68.38%\n"
          ]
        },
        {
          "output_type": "stream",
          "name": "stderr",
          "text": [
            "Epoch 10/20: 100%|██████████| 17/17 [00:00<00:00, 33.92it/s, loss=0.589]\n"
          ]
        },
        {
          "output_type": "stream",
          "name": "stdout",
          "text": [
            "Epoch [10/20], Training Loss: 0.6046, Training Accuracy: 71.14%\n"
          ]
        },
        {
          "output_type": "stream",
          "name": "stderr",
          "text": [
            "Epoch 11/20: 100%|██████████| 17/17 [00:00<00:00, 32.78it/s, loss=0.616]\n"
          ]
        },
        {
          "output_type": "stream",
          "name": "stdout",
          "text": [
            "Epoch [11/20], Training Loss: 0.6193, Training Accuracy: 70.04%\n"
          ]
        },
        {
          "output_type": "stream",
          "name": "stderr",
          "text": [
            "Epoch 12/20: 100%|██████████| 17/17 [00:00<00:00, 19.18it/s, loss=0.514]\n"
          ]
        },
        {
          "output_type": "stream",
          "name": "stdout",
          "text": [
            "Epoch [12/20], Training Loss: 0.6213, Training Accuracy: 68.57%\n"
          ]
        },
        {
          "output_type": "stream",
          "name": "stderr",
          "text": [
            "Epoch 13/20: 100%|██████████| 17/17 [00:00<00:00, 39.03it/s, loss=0.732]\n"
          ]
        },
        {
          "output_type": "stream",
          "name": "stdout",
          "text": [
            "Epoch [13/20], Training Loss: 0.6181, Training Accuracy: 64.34%\n"
          ]
        },
        {
          "output_type": "stream",
          "name": "stderr",
          "text": [
            "Epoch 14/20: 100%|██████████| 17/17 [00:00<00:00, 31.19it/s, loss=0.626]\n"
          ]
        },
        {
          "output_type": "stream",
          "name": "stdout",
          "text": [
            "Epoch [14/20], Training Loss: 0.6013, Training Accuracy: 69.30%\n"
          ]
        },
        {
          "output_type": "stream",
          "name": "stderr",
          "text": [
            "Epoch 15/20: 100%|██████████| 17/17 [00:00<00:00, 65.95it/s, loss=0.569]\n"
          ]
        },
        {
          "output_type": "stream",
          "name": "stdout",
          "text": [
            "Epoch [15/20], Training Loss: 0.6124, Training Accuracy: 69.67%\n"
          ]
        },
        {
          "output_type": "stream",
          "name": "stderr",
          "text": [
            "Epoch 16/20: 100%|██████████| 17/17 [00:00<00:00, 65.12it/s, loss=0.574]\n"
          ]
        },
        {
          "output_type": "stream",
          "name": "stdout",
          "text": [
            "Epoch [16/20], Training Loss: 0.5937, Training Accuracy: 70.22%\n"
          ]
        },
        {
          "output_type": "stream",
          "name": "stderr",
          "text": [
            "Epoch 17/20: 100%|██████████| 17/17 [00:00<00:00, 49.44it/s, loss=0.576]\n"
          ]
        },
        {
          "output_type": "stream",
          "name": "stdout",
          "text": [
            "Epoch [17/20], Training Loss: 0.5939, Training Accuracy: 70.22%\n"
          ]
        },
        {
          "output_type": "stream",
          "name": "stderr",
          "text": [
            "Epoch 18/20: 100%|██████████| 17/17 [00:00<00:00, 34.47it/s, loss=0.761]\n"
          ]
        },
        {
          "output_type": "stream",
          "name": "stdout",
          "text": [
            "Epoch [18/20], Training Loss: 0.5785, Training Accuracy: 72.06%\n"
          ]
        },
        {
          "output_type": "stream",
          "name": "stderr",
          "text": [
            "Epoch 19/20: 100%|██████████| 17/17 [00:00<00:00, 22.12it/s, loss=0.617]\n"
          ]
        },
        {
          "output_type": "stream",
          "name": "stdout",
          "text": [
            "Epoch [19/20], Training Loss: 0.5807, Training Accuracy: 71.51%\n"
          ]
        },
        {
          "output_type": "stream",
          "name": "stderr",
          "text": [
            "Epoch 20/20: 100%|██████████| 17/17 [00:00<00:00, 21.55it/s, loss=0.551]"
          ]
        },
        {
          "output_type": "stream",
          "name": "stdout",
          "text": [
            "Epoch [20/20], Training Loss: 0.5852, Training Accuracy: 70.22%\n",
            "Validation Loss: 0.6442, Validation Accuracy: 64.06%\n"
          ]
        },
        {
          "output_type": "stream",
          "name": "stderr",
          "text": [
            "\n"
          ]
        }
      ],
      "source": [
        "# Run with --- activation function\n",
        "from torch.nn import NLLLoss\n",
        "input_dim = 4\n",
        "hidden_dim = 30\n",
        "output_dim = 4\n",
        "num_hidden_layers = 5\n",
        "model = SimpleMLP(input_dim, hidden_dim, output_dim, num_hidden_layers, last_layer_activation_fn = nn.LogSoftmax).to(device)\n",
        "\n",
        "# Loss function and optimizer\n",
        "criterion = nn.NLLLoss()\n",
        "optimizer = torch.optim.Adam(model.parameters(), lr=0.001)\n",
        "trainer = SimpleMLPTrainer_NLLLoss(model, criterion, optimizer)\n",
        "\n",
        "# TODO: Train the model\n",
        "train_loss_soft, train_acc_soft = trainer.train(train_loader, num_epochs=20)\n",
        "\n",
        "# Evaluate the model\n",
        "test_loss_soft, test_acc_soft = trainer.evaluate(val_loader)"
      ]
    },
    {
      "cell_type": "code",
      "source": [
        "plt.figure(figsize=(8,4))\n",
        "plt.subplot(1,2,1)\n",
        "plt.plot(train_acc_relu)\n",
        "plt.plot(train_acc_soft)\n",
        "plt.xlabel(\"Epochs\")\n",
        "plt.ylabel(\"Accuracy\")\n",
        "plt.legend([\"Relu\", \"Softmax\"])\n",
        "\n",
        "plt.subplot(1,2,2)\n",
        "plt.plot(train_loss_relu)\n",
        "plt.plot(train_loss_soft)\n",
        "plt.xlabel(\"Epochs\")\n",
        "plt.ylabel(\"Loss\")\n",
        "plt.legend([\"Relu\", \"Softmax\"])\n",
        "\n",
        "plt.suptitle(\"Accuracy & Loss of NLLLoss with Relu Vs. Softmax\")\n",
        "plt.tight_layout()\n",
        "plt.show()"
      ],
      "metadata": {
        "colab": {
          "base_uri": "https://localhost:8080/",
          "height": 332
        },
        "id": "r5a6hbrEjwuX",
        "outputId": "4b3c54f4-2729-4897-82d0-6529b68729c3"
      },
      "execution_count": 124,
      "outputs": [
        {
          "output_type": "display_data",
          "data": {
            "text/plain": [
              "<Figure size 800x400 with 2 Axes>"
            ],
            "image/png": "[encoded data removed]"
          },
          "metadata": {}
        }
      ]
    },
    {
      "cell_type": "markdown",
      "metadata": {
        "id": "u-sE5eAbAEAc"
      },
      "source": [
        "Your reason for your choice:\n",
        "\n",
        "<div>\n",
        "**Because the loss drops logarithmic, therefore, using logsoftmax would be a good choice.**\n",
        "\n",
        "\n",
        "</div>"
      ]
    },
    {
      "cell_type": "markdown",
      "metadata": {
        "id": "T64aja_aAEAc"
      },
      "source": [
        "\n",
        "### 4. CrossEntropyLoss (`torch.nn.CrossEntropyLoss`)\n",
        "- **Description:** Combines `LogSoftmax` and `NLLLoss` in one single class. It computes the cross-entropy loss between the target and the output logits.\n",
        "- **Use Case:** Widely used for multi-class classification problems.\n",
        "\n",
        "The mathematical formulation of CrossEntropyLoss is as follows:\n",
        "\\begin{equation}\n",
        "  \\text{CrossEntropy}(y, \\hat{y}) = - \\sum_{i=1}^{C} y_i \\log\\left(\\frac{e^{\\hat{y}_i}}{\\sum_{j=1}^{C} e^{\\hat{y}_j}}\\right)\n",
        "\\end{equation}\n",
        "  where:\n",
        "  - \\( C \\) is the number of classes,\n",
        "  - \\( y_i \\) is a one-hot encoded target vector (or a scalar class label),\n",
        "  - \\( \\hat{y}_i \\) represents the logits (unnormalized model outputs) for each class.\n",
        "  \n",
        "  In practice, `torch.nn.CrossEntropyLoss` expects raw logits as input and internally applies the softmax function to convert the logits into probabilities, followed by the negative log-likelihood computation.\n",
        "\n",
        "- **Background:** Cross-entropy measures the difference between the true distribution \\( y \\) and the predicted distribution \\( \\hat{y} \\). The function minimizes the negative log-probability assigned to the correct class, effectively penalizing predictions that deviate from the true class, making it a standard choice for classification tasks in deep learning.\n",
        "\n",
        "Now, let's implement a class called `SimpleMLP_Loss` that has the following architecture:\n"
      ]
    },
    {
      "cell_type": "code",
      "execution_count": 125,
      "metadata": {
        "colab": {
          "base_uri": "https://localhost:8080/"
        },
        "id": "vesIwsc1AEAc",
        "outputId": "bc9aeba3-fd14-4755-d766-74336a283e7b"
      },
      "outputs": [
        {
          "output_type": "stream",
          "name": "stderr",
          "text": [
            "Epoch 1/20: 100%|██████████| 17/17 [00:00<00:00, 58.57it/s, loss=2.16]\n"
          ]
        },
        {
          "output_type": "stream",
          "name": "stdout",
          "text": [
            "Epoch [1/20], Training Loss: 3.1133, Training Accuracy: 0.18%\n"
          ]
        },
        {
          "output_type": "stream",
          "name": "stderr",
          "text": [
            "Epoch 2/20: 100%|██████████| 17/17 [00:00<00:00, 90.76it/s, loss=1.93]\n"
          ]
        },
        {
          "output_type": "stream",
          "name": "stdout",
          "text": [
            "Epoch [2/20], Training Loss: 2.0968, Training Accuracy: 29.41%\n"
          ]
        },
        {
          "output_type": "stream",
          "name": "stderr",
          "text": [
            "Epoch 3/20: 100%|██████████| 17/17 [00:00<00:00, 66.64it/s, loss=1.19] \n"
          ]
        },
        {
          "output_type": "stream",
          "name": "stdout",
          "text": [
            "Epoch [3/20], Training Loss: 1.4793, Training Accuracy: 46.88%\n"
          ]
        },
        {
          "output_type": "stream",
          "name": "stderr",
          "text": [
            "Epoch 4/20: 100%|██████████| 17/17 [00:00<00:00, 34.64it/s, loss=0.9]\n"
          ]
        },
        {
          "output_type": "stream",
          "name": "stdout",
          "text": [
            "Epoch [4/20], Training Loss: 1.1727, Training Accuracy: 50.92%\n"
          ]
        },
        {
          "output_type": "stream",
          "name": "stderr",
          "text": [
            "Epoch 5/20: 100%|██████████| 17/17 [00:00<00:00, 25.07it/s, loss=0.884]\n"
          ]
        },
        {
          "output_type": "stream",
          "name": "stdout",
          "text": [
            "Epoch [5/20], Training Loss: 1.0609, Training Accuracy: 55.88%\n"
          ]
        },
        {
          "output_type": "stream",
          "name": "stderr",
          "text": [
            "Epoch 6/20: 100%|██████████| 17/17 [00:00<00:00, 61.57it/s, loss=1.09]\n"
          ]
        },
        {
          "output_type": "stream",
          "name": "stdout",
          "text": [
            "Epoch [6/20], Training Loss: 1.0340, Training Accuracy: 58.82%\n"
          ]
        },
        {
          "output_type": "stream",
          "name": "stderr",
          "text": [
            "Epoch 7/20: 100%|██████████| 17/17 [00:00<00:00, 96.55it/s, loss=0.863]\n"
          ]
        },
        {
          "output_type": "stream",
          "name": "stdout",
          "text": [
            "Epoch [7/20], Training Loss: 1.0349, Training Accuracy: 58.82%\n"
          ]
        },
        {
          "output_type": "stream",
          "name": "stderr",
          "text": [
            "Epoch 8/20: 100%|██████████| 17/17 [00:00<00:00, 52.75it/s, loss=1.2]\n"
          ]
        },
        {
          "output_type": "stream",
          "name": "stdout",
          "text": [
            "Epoch [8/20], Training Loss: 1.0337, Training Accuracy: 59.19%\n"
          ]
        },
        {
          "output_type": "stream",
          "name": "stderr",
          "text": [
            "Epoch 9/20: 100%|██████████| 17/17 [00:00<00:00, 39.66it/s, loss=1.03]\n"
          ]
        },
        {
          "output_type": "stream",
          "name": "stdout",
          "text": [
            "Epoch [9/20], Training Loss: 1.0236, Training Accuracy: 60.11%\n"
          ]
        },
        {
          "output_type": "stream",
          "name": "stderr",
          "text": [
            "Epoch 10/20: 100%|██████████| 17/17 [00:00<00:00, 110.31it/s, loss=0.927]\n"
          ]
        },
        {
          "output_type": "stream",
          "name": "stdout",
          "text": [
            "Epoch [10/20], Training Loss: 1.0342, Training Accuracy: 58.82%\n"
          ]
        },
        {
          "output_type": "stream",
          "name": "stderr",
          "text": [
            "Epoch 11/20: 100%|██████████| 17/17 [00:00<00:00, 104.44it/s, loss=0.974]\n"
          ]
        },
        {
          "output_type": "stream",
          "name": "stdout",
          "text": [
            "Epoch [11/20], Training Loss: 1.0319, Training Accuracy: 59.19%\n"
          ]
        },
        {
          "output_type": "stream",
          "name": "stderr",
          "text": [
            "Epoch 12/20: 100%|██████████| 17/17 [00:00<00:00, 124.51it/s, loss=0.956]\n"
          ]
        },
        {
          "output_type": "stream",
          "name": "stdout",
          "text": [
            "Epoch [12/20], Training Loss: 1.0416, Training Accuracy: 58.64%\n"
          ]
        },
        {
          "output_type": "stream",
          "name": "stderr",
          "text": [
            "Epoch 13/20: 100%|██████████| 17/17 [00:00<00:00, 92.21it/s, loss=0.86]\n"
          ]
        },
        {
          "output_type": "stream",
          "name": "stdout",
          "text": [
            "Epoch [13/20], Training Loss: 1.0317, Training Accuracy: 59.38%\n"
          ]
        },
        {
          "output_type": "stream",
          "name": "stderr",
          "text": [
            "Epoch 14/20: 100%|██████████| 17/17 [00:00<00:00, 28.52it/s, loss=1.21]\n"
          ]
        },
        {
          "output_type": "stream",
          "name": "stdout",
          "text": [
            "Epoch [14/20], Training Loss: 1.0432, Training Accuracy: 58.64%\n"
          ]
        },
        {
          "output_type": "stream",
          "name": "stderr",
          "text": [
            "Epoch 15/20: 100%|██████████| 17/17 [00:00<00:00, 43.13it/s, loss=1.32]\n"
          ]
        },
        {
          "output_type": "stream",
          "name": "stdout",
          "text": [
            "Epoch [15/20], Training Loss: 1.0134, Training Accuracy: 59.56%\n"
          ]
        },
        {
          "output_type": "stream",
          "name": "stderr",
          "text": [
            "Epoch 16/20: 100%|██████████| 17/17 [00:00<00:00, 47.48it/s, loss=0.873]\n"
          ]
        },
        {
          "output_type": "stream",
          "name": "stdout",
          "text": [
            "Epoch [16/20], Training Loss: 1.0339, Training Accuracy: 59.01%\n"
          ]
        },
        {
          "output_type": "stream",
          "name": "stderr",
          "text": [
            "Epoch 17/20: 100%|██████████| 17/17 [00:00<00:00, 44.33it/s, loss=0.9]\n"
          ]
        },
        {
          "output_type": "stream",
          "name": "stdout",
          "text": [
            "Epoch [17/20], Training Loss: 1.0228, Training Accuracy: 59.01%\n"
          ]
        },
        {
          "output_type": "stream",
          "name": "stderr",
          "text": [
            "Epoch 18/20: 100%|██████████| 17/17 [00:00<00:00, 47.05it/s, loss=1.14]\n"
          ]
        },
        {
          "output_type": "stream",
          "name": "stdout",
          "text": [
            "Epoch [18/20], Training Loss: 1.0282, Training Accuracy: 58.64%\n"
          ]
        },
        {
          "output_type": "stream",
          "name": "stderr",
          "text": [
            "Epoch 19/20: 100%|██████████| 17/17 [00:00<00:00, 62.72it/s, loss=1.14]\n"
          ]
        },
        {
          "output_type": "stream",
          "name": "stdout",
          "text": [
            "Epoch [19/20], Training Loss: 1.0245, Training Accuracy: 59.56%\n"
          ]
        },
        {
          "output_type": "stream",
          "name": "stderr",
          "text": [
            "Epoch 20/20: 100%|██████████| 17/17 [00:00<00:00, 66.07it/s, loss=0.969]\n"
          ]
        },
        {
          "output_type": "stream",
          "name": "stdout",
          "text": [
            "Epoch [20/20], Training Loss: 1.0240, Training Accuracy: 59.01%\n",
            "Validation Loss: 1.1086, Validation Accuracy: 60.94%\n"
          ]
        }
      ],
      "source": [
        "from torch.nn import CrossEntropyLoss\n",
        "input_dim = 4\n",
        "hidden_dim = 10\n",
        "output_dim = 4\n",
        "num_hidden_layers = 2\n",
        "model = SimpleMLP(input_dim, hidden_dim, output_dim, num_hidden_layers).to(device)\n",
        "\n",
        "# Loss function and optimizer\n",
        "criterion = CrossEntropyLoss()\n",
        "optimizer = torch.optim.Adam(model.parameters(), lr=0.001)\n",
        "trainer = SimpleMLPTrainer_NLLLoss(model, criterion, optimizer)\n",
        "\n",
        "\n",
        "# TODO: Train the model\n",
        "train_loss, train_acc = trainer.train(train_loader, num_epochs=20)\n",
        "\n",
        "# Evaluate the model\n",
        "test_loss, test_acc = trainer.evaluate(val_loader)"
      ]
    },
    {
      "cell_type": "code",
      "source": [
        "plt.figure(figsize=(8,4))\n",
        "plt.subplot(1,2,1)\n",
        "plt.plot(train_acc)\n",
        "plt.xlabel(\"Epochs\")\n",
        "plt.ylabel(\"Accuracy\")\n",
        "\n",
        "plt.subplot(1,2,2)\n",
        "plt.plot(train_loss)\n",
        "plt.xlabel(\"Epochs\")\n",
        "plt.ylabel(\"Loss\")\n",
        "\n",
        "plt.suptitle(\"Accuracy & Loss of CrossEntropyLoss\")\n",
        "plt.tight_layout()\n",
        "plt.show()"
      ],
      "metadata": {
        "colab": {
          "base_uri": "https://localhost:8080/",
          "height": 332
        },
        "id": "T-F99HYoNrAP",
        "outputId": "b8af2386-1fa8-48a9-da46-646d05e31e5f"
      },
      "execution_count": 126,
      "outputs": [
        {
          "output_type": "display_data",
          "data": {
            "text/plain": [
              "<Figure size 800x400 with 2 Axes>"
            ],
            "image/png": "[encoded data removed]"
          },
          "metadata": {}
        }
      ]
    },
    {
      "cell_type": "markdown",
      "metadata": {
        "id": "d47fMXPHAEAc"
      },
      "source": [
        "\n",
        "### 5. KLDivLoss (`torch.nn.KLDivLoss`)\n",
        "- **Description:** Kullback-Leibler Divergence Loss measures how one probability distribution diverges from a second, reference distribution. Unlike other loss functions that focus on classification, KL divergence specifically compares the relative entropy between two distributions. It quantifies the information loss when using the predicted distribution to approximate the true distribution.\n",
        "\n",
        "- **Mathematical Function:**\n",
        "\\begin{equation}\n",
        "  \\text{KL}(P \\parallel Q) = \\sum_{i=1}^{C} P(i) \\left( \\log P(i) - \\log Q(i) \\right)\n",
        "\\end{equation}\n",
        "  where:\n",
        "  - \\( P \\) is the target (true) probability distribution,\n",
        "  - \\( Q \\) is the predicted distribution (often the output of `log_softmax`),\n",
        "  - \\( C \\) is the number of classes.\n",
        "\n",
        "  KL divergence is always non-negative, and it equals zero if the two distributions are identical. The loss function expects the model's output to be in the form of log-probabilities (using `log_softmax`) and compares this against a target probability distribution, which is typically a normalized distribution (using softmax).\n",
        "\n",
        "- **Use Case:** KLDivLoss is frequently used in:\n",
        "  - **Variational Autoencoders (VAEs):** In VAEs, KL divergence is used to measure how much the learned latent space distribution deviates from a prior distribution (often Gaussian).\n",
        "  - **Knowledge Distillation:** In teacher-student models, KL divergence is used to transfer the \"soft\" knowledge from a teacher model to a student model by comparing their output probability distributions.\n",
        "  - **Reinforcement Learning:** It can be used to update policies while minimizing the divergence from a previous policy.\n",
        "\n",
        "- **Background:** Kullback-Leibler divergence, a core concept in information theory, measures the inefficiency of assuming the predicted distribution \\( Q \\) when the true distribution is \\( P \\). It is asymmetric, meaning that \\( KL(P \\parallel Q) \\neq KL(Q \\parallel P) \\), so the direction of the comparison matters.\n",
        "\n",
        "Again, in this part, run your training with Relu at last layer. <span style=\"color:red; font-weight: bold;\">Discuss </span> and explain the difference between the results of the two models. Find a proper solution to the problem.\n"
      ]
    },
    {
      "cell_type": "code",
      "source": [
        "X_train, X_val, y_train, y_val = train_test_split(X, y, test_size=0.2, random_state=42)\n",
        "\n",
        "X_train = torch.tensor(X_train, dtype=torch.float32)\n",
        "y_train = torch.tensor(y_train, dtype=torch.float32).view(-1, 1)\n",
        "X_val = torch.tensor(X_val, dtype=torch.float32)\n",
        "y_val = torch.tensor(y_val, dtype=torch.float32).view(-1, 1)\n",
        "\n",
        "train_data = TensorDataset(X_train, y_train)\n",
        "val_data = TensorDataset(X_val, y_val)\n",
        "\n",
        "batch_size = 32\n",
        "train_loader = DataLoader(train_data, batch_size=batch_size, shuffle=True, drop_last=True)\n",
        "val_loader = DataLoader(val_data, batch_size=batch_size, shuffle=False, drop_last=True)"
      ],
      "metadata": {
        "id": "-AHfAvBfVz6V"
      },
      "execution_count": 128,
      "outputs": []
    },
    {
      "cell_type": "code",
      "execution_count": 129,
      "metadata": {
        "colab": {
          "base_uri": "https://localhost:8080/"
        },
        "id": "zJX0G03CAEAc",
        "outputId": "6dc3c52b-e5d7-4ae6-94a5-82035b35f026"
      },
      "outputs": [
        {
          "output_type": "stream",
          "name": "stderr",
          "text": [
            "Epoch 1/20: 100%|██████████| 17/17 [00:00<00:00, 34.27it/s, loss=-0.535]\n"
          ]
        },
        {
          "output_type": "stream",
          "name": "stdout",
          "text": [
            "Epoch [1/20], Training Loss: -0.4999, Training Accuracy: 8.09%\n"
          ]
        },
        {
          "output_type": "stream",
          "name": "stderr",
          "text": [
            "Epoch 2/20: 100%|██████████| 17/17 [00:01<00:00, 16.71it/s, loss=-1.89]\n"
          ]
        },
        {
          "output_type": "stream",
          "name": "stdout",
          "text": [
            "Epoch [2/20], Training Loss: -1.2100, Training Accuracy: 42.83%\n"
          ]
        },
        {
          "output_type": "stream",
          "name": "stderr",
          "text": [
            "Epoch 3/20: 100%|██████████| 17/17 [00:00<00:00, 31.25it/s, loss=-4.55]\n"
          ]
        },
        {
          "output_type": "stream",
          "name": "stdout",
          "text": [
            "Epoch [3/20], Training Loss: -3.1305, Training Accuracy: 59.01%\n"
          ]
        },
        {
          "output_type": "stream",
          "name": "stderr",
          "text": [
            "Epoch 4/20: 100%|██████████| 17/17 [00:00<00:00, 46.35it/s, loss=-16.5]\n"
          ]
        },
        {
          "output_type": "stream",
          "name": "stdout",
          "text": [
            "Epoch [4/20], Training Loss: -8.3069, Training Accuracy: 58.82%\n"
          ]
        },
        {
          "output_type": "stream",
          "name": "stderr",
          "text": [
            "Epoch 5/20: 100%|██████████| 17/17 [00:00<00:00, 24.75it/s, loss=-38.4]\n"
          ]
        },
        {
          "output_type": "stream",
          "name": "stdout",
          "text": [
            "Epoch [5/20], Training Loss: -20.8645, Training Accuracy: 59.74%\n"
          ]
        },
        {
          "output_type": "stream",
          "name": "stderr",
          "text": [
            "Epoch 6/20: 100%|██████████| 17/17 [00:00<00:00, 36.03it/s, loss=-83]\n"
          ]
        },
        {
          "output_type": "stream",
          "name": "stdout",
          "text": [
            "Epoch [6/20], Training Loss: -52.5684, Training Accuracy: 58.82%\n"
          ]
        },
        {
          "output_type": "stream",
          "name": "stderr",
          "text": [
            "Epoch 7/20: 100%|██████████| 17/17 [00:00<00:00, 40.02it/s, loss=-162]\n"
          ]
        },
        {
          "output_type": "stream",
          "name": "stdout",
          "text": [
            "Epoch [7/20], Training Loss: -135.0460, Training Accuracy: 58.64%\n"
          ]
        },
        {
          "output_type": "stream",
          "name": "stderr",
          "text": [
            "Epoch 8/20: 100%|██████████| 17/17 [00:00<00:00, 28.08it/s, loss=-196]\n"
          ]
        },
        {
          "output_type": "stream",
          "name": "stdout",
          "text": [
            "Epoch [8/20], Training Loss: -292.9059, Training Accuracy: 58.64%\n"
          ]
        },
        {
          "output_type": "stream",
          "name": "stderr",
          "text": [
            "Epoch 9/20: 100%|██████████| 17/17 [00:00<00:00, 24.59it/s, loss=-677]\n"
          ]
        },
        {
          "output_type": "stream",
          "name": "stdout",
          "text": [
            "Epoch [9/20], Training Loss: -626.9549, Training Accuracy: 58.82%\n"
          ]
        },
        {
          "output_type": "stream",
          "name": "stderr",
          "text": [
            "Epoch 10/20: 100%|██████████| 17/17 [00:00<00:00, 32.60it/s, loss=-866]\n"
          ]
        },
        {
          "output_type": "stream",
          "name": "stdout",
          "text": [
            "Epoch [10/20], Training Loss: -1274.7846, Training Accuracy: 59.56%\n"
          ]
        },
        {
          "output_type": "stream",
          "name": "stderr",
          "text": [
            "Epoch 11/20: 100%|██████████| 17/17 [00:00<00:00, 31.98it/s, loss=-1.59e+3]\n"
          ]
        },
        {
          "output_type": "stream",
          "name": "stdout",
          "text": [
            "Epoch [11/20], Training Loss: -2482.6012, Training Accuracy: 59.01%\n"
          ]
        },
        {
          "output_type": "stream",
          "name": "stderr",
          "text": [
            "Epoch 12/20: 100%|██████████| 17/17 [00:00<00:00, 38.50it/s, loss=-5.85e+3]\n"
          ]
        },
        {
          "output_type": "stream",
          "name": "stdout",
          "text": [
            "Epoch [12/20], Training Loss: -4539.1406, Training Accuracy: 59.38%\n"
          ]
        },
        {
          "output_type": "stream",
          "name": "stderr",
          "text": [
            "Epoch 13/20: 100%|██████████| 17/17 [00:00<00:00, 32.52it/s, loss=-1.28e+4]\n"
          ]
        },
        {
          "output_type": "stream",
          "name": "stdout",
          "text": [
            "Epoch [13/20], Training Loss: -7962.7061, Training Accuracy: 59.56%\n"
          ]
        },
        {
          "output_type": "stream",
          "name": "stderr",
          "text": [
            "Epoch 14/20: 100%|██████████| 17/17 [00:00<00:00, 17.82it/s, loss=-1.32e+4]\n"
          ]
        },
        {
          "output_type": "stream",
          "name": "stdout",
          "text": [
            "Epoch [14/20], Training Loss: -13473.5260, Training Accuracy: 58.82%\n"
          ]
        },
        {
          "output_type": "stream",
          "name": "stderr",
          "text": [
            "Epoch 15/20: 100%|██████████| 17/17 [00:00<00:00, 21.79it/s, loss=-3.49e+4]\n"
          ]
        },
        {
          "output_type": "stream",
          "name": "stdout",
          "text": [
            "Epoch [15/20], Training Loss: -22099.9701, Training Accuracy: 58.82%\n"
          ]
        },
        {
          "output_type": "stream",
          "name": "stderr",
          "text": [
            "Epoch 16/20: 100%|██████████| 17/17 [00:00<00:00, 46.27it/s, loss=-5.55e+4]\n"
          ]
        },
        {
          "output_type": "stream",
          "name": "stdout",
          "text": [
            "Epoch [16/20], Training Loss: -34982.1684, Training Accuracy: 58.27%\n"
          ]
        },
        {
          "output_type": "stream",
          "name": "stderr",
          "text": [
            "Epoch 17/20: 100%|██████████| 17/17 [00:00<00:00, 100.06it/s, loss=-6.7e+4]\n"
          ]
        },
        {
          "output_type": "stream",
          "name": "stdout",
          "text": [
            "Epoch [17/20], Training Loss: -52916.4193, Training Accuracy: 59.38%\n"
          ]
        },
        {
          "output_type": "stream",
          "name": "stderr",
          "text": [
            "Epoch 18/20: 100%|██████████| 17/17 [00:00<00:00, 76.93it/s, loss=-7.39e+4]\n"
          ]
        },
        {
          "output_type": "stream",
          "name": "stdout",
          "text": [
            "Epoch [18/20], Training Loss: -77990.1875, Training Accuracy: 59.56%\n"
          ]
        },
        {
          "output_type": "stream",
          "name": "stderr",
          "text": [
            "Epoch 19/20: 100%|██████████| 17/17 [00:00<00:00, 36.00it/s, loss=-1.32e+5]\n"
          ]
        },
        {
          "output_type": "stream",
          "name": "stdout",
          "text": [
            "Epoch [19/20], Training Loss: -117038.1498, Training Accuracy: 59.01%\n"
          ]
        },
        {
          "output_type": "stream",
          "name": "stderr",
          "text": [
            "Epoch 20/20: 100%|██████████| 17/17 [00:00<00:00, 35.95it/s, loss=-2.4e+5]\n"
          ]
        },
        {
          "output_type": "stream",
          "name": "stdout",
          "text": [
            "Epoch [20/20], Training Loss: -169311.7027, Training Accuracy: 58.64%\n",
            "Validation Loss: -212003.2500, Validation Accuracy: 60.94%\n"
          ]
        }
      ],
      "source": [
        "# Run with relu activation function\n",
        "from torch.nn import KLDivLoss\n",
        "input_dim = 4\n",
        "hidden_dim = 10\n",
        "output_dim = 4\n",
        "num_hidden_layers = 5\n",
        "model = SimpleMLP(input_dim, hidden_dim, output_dim, num_hidden_layers).to(device)\n",
        "\n",
        "# Loss function and optimizer\n",
        "criterion = KLDivLoss(reduction=\"batchmean\")\n",
        "optimizer = torch.optim.Adam(model.parameters(), lr=0.001)\n",
        "trainer = SimpleMLPTrainer(model, criterion, optimizer)\n",
        "\n",
        "# TODO: Train the model\n",
        "train_loss_relu, train_acc_relu = trainer.train(train_loader, num_epochs=20)\n",
        "\n",
        "# Evaluate the model\n",
        "test_loss_relu, test_acc_relu = trainer.evaluate(val_loader)"
      ]
    },
    {
      "cell_type": "code",
      "execution_count": 137,
      "metadata": {
        "colab": {
          "base_uri": "https://localhost:8080/"
        },
        "id": "9IT5FKbIAEAd",
        "outputId": "ea971ee1-4296-4e60-f527-3a28fce558ff"
      },
      "outputs": [
        {
          "output_type": "stream",
          "name": "stderr",
          "text": [
            "Epoch 1/20: 100%|██████████| 17/17 [00:00<00:00, 56.80it/s, loss=2.43]\n"
          ]
        },
        {
          "output_type": "stream",
          "name": "stdout",
          "text": [
            "Epoch [1/20], Training Loss: 2.2660, Training Accuracy: 0.00%\n"
          ]
        },
        {
          "output_type": "stream",
          "name": "stderr",
          "text": [
            "Epoch 2/20: 100%|██████████| 17/17 [00:00<00:00, 64.14it/s, loss=1.04]\n"
          ]
        },
        {
          "output_type": "stream",
          "name": "stdout",
          "text": [
            "Epoch [2/20], Training Loss: 2.2630, Training Accuracy: 28.31%\n"
          ]
        },
        {
          "output_type": "stream",
          "name": "stderr",
          "text": [
            "Epoch 3/20: 100%|██████████| 17/17 [00:00<00:00, 60.70it/s, loss=1.73]\n"
          ]
        },
        {
          "output_type": "stream",
          "name": "stdout",
          "text": [
            "Epoch [3/20], Training Loss: 2.3037, Training Accuracy: 16.18%\n"
          ]
        },
        {
          "output_type": "stream",
          "name": "stderr",
          "text": [
            "Epoch 4/20: 100%|██████████| 17/17 [00:00<00:00, 53.23it/s, loss=2.6]\n"
          ]
        },
        {
          "output_type": "stream",
          "name": "stdout",
          "text": [
            "Epoch [4/20], Training Loss: 2.2935, Training Accuracy: 27.21%\n"
          ]
        },
        {
          "output_type": "stream",
          "name": "stderr",
          "text": [
            "Epoch 5/20: 100%|██████████| 17/17 [00:00<00:00, 52.76it/s, loss=2.25]\n"
          ]
        },
        {
          "output_type": "stream",
          "name": "stdout",
          "text": [
            "Epoch [5/20], Training Loss: 2.3037, Training Accuracy: 4.96%\n"
          ]
        },
        {
          "output_type": "stream",
          "name": "stderr",
          "text": [
            "Epoch 6/20: 100%|██████████| 17/17 [00:00<00:00, 61.10it/s, loss=2.43]\n"
          ]
        },
        {
          "output_type": "stream",
          "name": "stdout",
          "text": [
            "Epoch [6/20], Training Loss: 2.2731, Training Accuracy: 7.72%\n"
          ]
        },
        {
          "output_type": "stream",
          "name": "stderr",
          "text": [
            "Epoch 7/20: 100%|██████████| 17/17 [00:00<00:00, 61.47it/s, loss=3.12]\n"
          ]
        },
        {
          "output_type": "stream",
          "name": "stdout",
          "text": [
            "Epoch [7/20], Training Loss: 2.3037, Training Accuracy: 24.45%\n"
          ]
        },
        {
          "output_type": "stream",
          "name": "stderr",
          "text": [
            "Epoch 8/20: 100%|██████████| 17/17 [00:00<00:00, 67.79it/s, loss=2.77]\n"
          ]
        },
        {
          "output_type": "stream",
          "name": "stdout",
          "text": [
            "Epoch [8/20], Training Loss: 2.2935, Training Accuracy: 19.30%\n"
          ]
        },
        {
          "output_type": "stream",
          "name": "stderr",
          "text": [
            "Epoch 9/20: 100%|██████████| 17/17 [00:00<00:00, 73.90it/s, loss=1.91]\n"
          ]
        },
        {
          "output_type": "stream",
          "name": "stdout",
          "text": [
            "Epoch [9/20], Training Loss: 2.2935, Training Accuracy: 32.90%\n"
          ]
        },
        {
          "output_type": "stream",
          "name": "stderr",
          "text": [
            "Epoch 10/20: 100%|██████████| 17/17 [00:00<00:00, 66.26it/s, loss=2.08]\n"
          ]
        },
        {
          "output_type": "stream",
          "name": "stdout",
          "text": [
            "Epoch [10/20], Training Loss: 2.2120, Training Accuracy: 25.00%\n"
          ]
        },
        {
          "output_type": "stream",
          "name": "stderr",
          "text": [
            "Epoch 11/20: 100%|██████████| 17/17 [00:00<00:00, 63.84it/s, loss=1.73]\n"
          ]
        },
        {
          "output_type": "stream",
          "name": "stdout",
          "text": [
            "Epoch [11/20], Training Loss: 2.2527, Training Accuracy: 33.46%\n"
          ]
        },
        {
          "output_type": "stream",
          "name": "stderr",
          "text": [
            "Epoch 12/20: 100%|██████████| 17/17 [00:00<00:00, 61.66it/s, loss=1.56]\n"
          ]
        },
        {
          "output_type": "stream",
          "name": "stdout",
          "text": [
            "Epoch [12/20], Training Loss: 2.2425, Training Accuracy: 37.32%\n"
          ]
        },
        {
          "output_type": "stream",
          "name": "stderr",
          "text": [
            "Epoch 13/20: 100%|██████████| 17/17 [00:00<00:00, 61.07it/s, loss=2.77]\n"
          ]
        },
        {
          "output_type": "stream",
          "name": "stdout",
          "text": [
            "Epoch [13/20], Training Loss: 2.2425, Training Accuracy: 43.38%\n"
          ]
        },
        {
          "output_type": "stream",
          "name": "stderr",
          "text": [
            "Epoch 14/20: 100%|██████████| 17/17 [00:00<00:00, 30.64it/s, loss=3.12]\n"
          ]
        },
        {
          "output_type": "stream",
          "name": "stdout",
          "text": [
            "Epoch [14/20], Training Loss: 2.2731, Training Accuracy: 43.57%\n"
          ]
        },
        {
          "output_type": "stream",
          "name": "stderr",
          "text": [
            "Epoch 15/20: 100%|██████████| 17/17 [00:00<00:00, 41.22it/s, loss=2.77]\n"
          ]
        },
        {
          "output_type": "stream",
          "name": "stdout",
          "text": [
            "Epoch [15/20], Training Loss: 2.2833, Training Accuracy: 44.12%\n"
          ]
        },
        {
          "output_type": "stream",
          "name": "stderr",
          "text": [
            "Epoch 16/20: 100%|██████████| 17/17 [00:00<00:00, 34.21it/s, loss=2.25]\n"
          ]
        },
        {
          "output_type": "stream",
          "name": "stdout",
          "text": [
            "Epoch [16/20], Training Loss: 2.3139, Training Accuracy: 43.38%\n"
          ]
        },
        {
          "output_type": "stream",
          "name": "stderr",
          "text": [
            "Epoch 17/20: 100%|██████████| 17/17 [00:00<00:00, 26.23it/s, loss=1.91]\n"
          ]
        },
        {
          "output_type": "stream",
          "name": "stdout",
          "text": [
            "Epoch [17/20], Training Loss: 2.2731, Training Accuracy: 44.49%\n"
          ]
        },
        {
          "output_type": "stream",
          "name": "stderr",
          "text": [
            "Epoch 18/20: 100%|██████████| 17/17 [00:00<00:00, 47.38it/s, loss=1.91]\n"
          ]
        },
        {
          "output_type": "stream",
          "name": "stdout",
          "text": [
            "Epoch [18/20], Training Loss: 2.2629, Training Accuracy: 44.30%\n"
          ]
        },
        {
          "output_type": "stream",
          "name": "stderr",
          "text": [
            "Epoch 19/20: 100%|██████████| 17/17 [00:00<00:00, 52.08it/s, loss=1.91]\n"
          ]
        },
        {
          "output_type": "stream",
          "name": "stdout",
          "text": [
            "Epoch [19/20], Training Loss: 2.2629, Training Accuracy: 46.14%\n"
          ]
        },
        {
          "output_type": "stream",
          "name": "stderr",
          "text": [
            "Epoch 20/20: 100%|██████████| 17/17 [00:00<00:00, 33.05it/s, loss=1.73]\n"
          ]
        },
        {
          "output_type": "stream",
          "name": "stdout",
          "text": [
            "Epoch [20/20], Training Loss: 2.2629, Training Accuracy: 44.85%\n",
            "Validation Loss: 2.1661, Validation Accuracy: 43.75%\n"
          ]
        }
      ],
      "source": [
        "# Run with --- activation function\n",
        "from torch.nn import KLDivLoss\n",
        "input_dim = 4\n",
        "hidden_dim = 50\n",
        "output_dim = 4\n",
        "num_hidden_layers = 15\n",
        "model = SimpleMLP(input_dim, hidden_dim, output_dim, num_hidden_layers, last_layer_activation_fn = nn.LogSoftmax).to(device)\n",
        "\n",
        "# Loss function and optimizer\n",
        "criterion = KLDivLoss(reduction=\"batchmean\")\n",
        "optimizer = torch.optim.Adam(model.parameters(), lr=0.001)\n",
        "trainer = SimpleMLPTrainer(model, criterion, optimizer)\n",
        "\n",
        "# TODO: Train the model\n",
        "train_loss_soft, train_acc_soft = trainer.train(train_loader, num_epochs=20)\n",
        "\n",
        "# Evaluate the model\n",
        "test_loss_soft, test_acc_soft = trainer.evaluate(val_loader)"
      ]
    },
    {
      "cell_type": "code",
      "source": [
        "plt.figure(figsize=(8,4))\n",
        "plt.subplot(1,2,1)\n",
        "plt.plot(train_acc_relu)\n",
        "plt.plot(train_acc_soft)\n",
        "plt.xlabel(\"Epochs\")\n",
        "plt.ylabel(\"Accuracy\")\n",
        "plt.legend([\"Relu\", \"Softmax\"])\n",
        "\n",
        "plt.subplot(1,2,2)\n",
        "plt.plot(train_loss_relu)\n",
        "plt.plot(train_loss_soft)\n",
        "plt.xlabel(\"Epochs\")\n",
        "plt.ylabel(\"Loss\")\n",
        "plt.legend([\"Relu\", \"Softmax\"])\n",
        "\n",
        "plt.suptitle(\"Accuracy & Loss of KLDivLoss with Relu Vs. Softmax\")\n",
        "plt.tight_layout()\n",
        "plt.show()"
      ],
      "metadata": {
        "colab": {
          "base_uri": "https://localhost:8080/",
          "height": 332
        },
        "id": "I-XAJp59OJJQ",
        "outputId": "d0a2d1d4-c4db-4946-caf2-1abde72c299c"
      },
      "execution_count": 138,
      "outputs": [
        {
          "output_type": "display_data",
          "data": {
            "text/plain": [
              "<Figure size 800x400 with 2 Axes>"
            ],
            "image/png": "[encoded data removed]"
          },
          "metadata": {}
        }
      ]
    },
    {
      "cell_type": "markdown",
      "metadata": {
        "id": "u0Dy5K35AEAd"
      },
      "source": [
        "Your reason for your choice:\n",
        "\n",
        "<div>\n",
        "**Your answer here**\n",
        "\n",
        "The accuracy of softmax is more than ReLU and the accuracy varies too much.\n",
        "</div>"
      ]
    },
    {
      "cell_type": "markdown",
      "metadata": {
        "id": "wq3WV4qTAEAd"
      },
      "source": [
        "### 6. CosineEmbeddingLoss (`torch.nn.CosineEmbeddingLoss`)\n",
        "- **Description:** Measures the cosine similarity between two input tensors, `x1` and `x2`, and computes the loss based on a label `y` that indicates whether the tensors should be similar (`y = 1`) or dissimilar (`y = -1`). Cosine similarity focuses on the angle between vectors, disregarding their magnitude.\n",
        "\n",
        "- **Mathematical Function:**\n",
        "\\begin{equation}\n",
        "  \\text{CosineEmbeddingLoss}(x1, x2, y) =\n",
        "  \\begin{cases}\n",
        "  1 - \\cos(x_1, x_2), & \\text{if } y = 1 \\\\\n",
        "  \\max(0, \\cos(x_1, x_2) - \\text{margin}), & \\text{if } y = -1\n",
        "  \\end{cases}\n",
        "\\end{equation}\n",
        "  where $ \\cos(x_1, x_2) $ is the cosine similarity between the two vectors, and `margin` is a threshold that determines how dissimilar the vectors should be.\n",
        "\n",
        "- **Use Case:** Commonly used in tasks like face verification, image similarity, and other scenarios where the relative orientation of vectors (angle) is more important than their length, such as in embeddings and metric learning.\n",
        "\n",
        "- **Background:** Cosine similarity compares the directional alignment of vectors, making it ideal for high-dimensional data where the magnitude may not be as informative. This loss is particularly useful when training models to learn meaningful embeddings that capture semantic similarity.\n",
        "\n",
        "You'll become more fimiliar with this loss function in future.\n",
        "\n",
        "---"
      ]
    },
    {
      "cell_type": "markdown",
      "metadata": {
        "id": "v5Xqn9V_AEAd"
      },
      "source": [
        "# Regularization in Machine Learning\n",
        "\n",
        "## Introduction\n",
        "\n",
        "Regularization is a fundamental technique in machine learning that helps prevent overfitting by adding a penalty to the loss function. This penalty discourages the model from becoming too complex, ensuring better generalization to unseen data. In this notebook, you will explore the concepts of regularization, understand different types of regularization techniques, and apply them using Python's popular libraries.\n",
        "\n",
        "## What is Regularization?\n",
        "\n",
        "Regularization involves adding a regularization term to the loss function used to train machine learning models. This term imposes a constraint on the model's coefficients, effectively reducing their magnitude. By doing so, regularization helps in:\n",
        "\n",
        "- **Preventing Overfitting:** Ensures the model does not become too tailored to the training data.\n",
        "- **Improving Generalization:** Enhances the model's performance on new, unseen data.\n",
        "- **Feature Selection:** Especially in L1 regularization, it can drive some coefficients to zero, effectively selecting important features.\n",
        "\n",
        "## Types of Regularization\n",
        "\n",
        "There are several types of regularization techniques, each imposing different constraints on the model's parameters:\n",
        "\n",
        "### 1. L1 Regularization (Lasso)\n",
        "\n",
        "L1 regularization adds the absolute value of the magnitude of coefficients as a penalty term to the loss function. It can lead to sparse models where some feature coefficients are exactly zero.\n",
        "\n",
        "### 2. L2 Regularization (Ridge)\n",
        "\n",
        "L2 regularization adds the squared magnitude of coefficients as a penalty term to the loss function. It tends to shrink the coefficients evenly but does not set them to zero.\n",
        "\n",
        "### 3. Elastic Net\n",
        "\n",
        "Elastic Net combines both L1 and L2 regularization penalties. It balances the benefits of both Lasso and Ridge methods, allowing for feature selection and coefficient shrinkage."
      ]
    },
    {
      "cell_type": "markdown",
      "metadata": {
        "id": "IZxSlcayAEAd"
      },
      "source": [
        "## Homework Time!\n",
        "Import Iris dataset from sklearn.datasets and apply ridge regression with different alpha values. Then, create a gif that shows the changes of the classification boundary with respect to alpha values."
      ]
    },
    {
      "cell_type": "markdown",
      "metadata": {
        "id": "fY1HxJesAEAd"
      },
      "source": [
        "Import the libs that you need and start coding!"
      ]
    },
    {
      "cell_type": "code",
      "execution_count": 132,
      "metadata": {
        "id": "YekX2pttAEAd"
      },
      "outputs": [],
      "source": [
        "import numpy as np\n",
        "import matplotlib.pyplot as plt\n",
        "from sklearn.datasets import load_iris\n",
        "from sklearn.preprocessing import StandardScaler\n",
        "from sklearn.model_selection import train_test_split\n",
        "from PIL import Image\n",
        "from io import BytesIO\n",
        "import imageio\n",
        "import warnings\n",
        "\n",
        "\n",
        "# Suppress warnings for cleaner output\n",
        "warnings.filterwarnings(\"ignore\")"
      ]
    },
    {
      "cell_type": "markdown",
      "metadata": {
        "id": "fHaWF_HtAEAd"
      },
      "source": [
        "Load the Iris dataset and select Setosa and Versicolor classes"
      ]
    },
    {
      "cell_type": "code",
      "execution_count": 133,
      "metadata": {
        "id": "Fl0ZMRIbAEAe"
      },
      "outputs": [],
      "source": [
        "# Load the Iris dataset\n",
        "iris = load_iris()\n",
        "X = iris.data\n",
        "y = iris.target\n",
        "\n",
        "# Select only two classes for binary classification (Setosa and Versicolor)\n",
        "X = X[y != 2]  # Removing the third class\n",
        "y = y[y != 2]\n",
        "\n",
        "# Select two features for 2D visualization (Sepal Length and Petal Length)\n",
        "X = X[:, [0, 2]]  # Sepal Length and Petal Length\n",
        "\n",
        "# Split into training and testing sets\n",
        "X_train, X_test, y_train, y_test = train_test_split(X, y, test_size=0.3, random_state=42)\n",
        "\n",
        "# Standardize the features\n",
        "scaler = StandardScaler()\n",
        "X_train = scaler.fit_transform(X_train)\n",
        "X_test = scaler.transform(X_test)"
      ]
    },
    {
      "cell_type": "markdown",
      "metadata": {
        "id": "eriUKePJAEAe"
      },
      "source": [
        "Define Function to Plot Decision Boundary"
      ]
    },
    {
      "cell_type": "code",
      "execution_count": 134,
      "metadata": {
        "id": "IgBa7eZXAEAe"
      },
      "outputs": [],
      "source": [
        "def plot_decision_boundary(model, X, y, alpha):\n",
        "    # Define the grid (use meshgrid)\n",
        "    x_min, x_max = X[:, 0].min() - 1, X[:, 0].max() + 1\n",
        "    y_min, y_max = X[:, 1].min() - 1, X[:, 1].max() + 1\n",
        "    xx, yy = np.meshgrid(np.arange(x_min, x_max, 0.1),\n",
        "                         np.arange(y_min, y_max, 0.1))\n",
        "\n",
        "    # Predict over the grid\n",
        "    grid_points = np.c_[xx.ravel(), yy.ravel()]\n",
        "    Z = model.predict(grid_points)\n",
        "    Z = Z.reshape(xx.shape)\n",
        "\n",
        "    # Create a figure\n",
        "    fig, ax = plt.subplots(figsize=(6, 5))\n",
        "\n",
        "    # Plot the decision boundary\n",
        "    ax.contourf(xx, yy, Z, alpha=0.3, levels=[-0.1, 0.1, 1.1], colors=['blue', 'red'])\n",
        "\n",
        "    # Scatter plot of the training data\n",
        "    scatter = ax.scatter(\n",
        "        X[:, 0], X[:, 1], c=y, cmap='bwr', edgecolor='k', s=50\n",
        "    )\n",
        "\n",
        "    # Title and labels\n",
        "    ax.set_title(f'MLP Decision Boundary (alpha={alpha})')\n",
        "    ax.set_xlabel('Sepal Length (standardized)')\n",
        "    ax.set_ylabel('Petal Length (standardized)')\n",
        "\n",
        "    # Remove axes for clarity\n",
        "    ax.set_xticks([])\n",
        "    ax.set_yticks([])\n",
        "\n",
        "    # Tight layout\n",
        "    plt.tight_layout()\n",
        "\n",
        "    # Save the plot to a BytesIO object\n",
        "    buf = BytesIO()\n",
        "    plt.savefig(buf, format='png')\n",
        "    plt.close(fig)\n",
        "    buf.seek(0)\n",
        "    return Image.open(buf)"
      ]
    },
    {
      "cell_type": "markdown",
      "metadata": {
        "id": "zAF67S4WAEAe"
      },
      "source": [
        "Train MLP with Varying Alpha Values and Collect Images"
      ]
    },
    {
      "cell_type": "code",
      "execution_count": 135,
      "metadata": {
        "id": "ciUq9dFcAEAe"
      },
      "outputs": [],
      "source": [
        "from sklearn.neural_network import MLPClassifier\n",
        "\n",
        "def create_decision_boundary_gif(alpha_values, X_train, y_train, n_neurons):\n",
        "\n",
        "    # List to store images\n",
        "    images = []\n",
        "\n",
        "    for idx, alpha in enumerate(alpha_values):\n",
        "        print(f\"Processing alpha={alpha:.4f} ({idx + 1}/{len(alpha_values)})\")\n",
        "\n",
        "        # Create and train the MLP\n",
        "        mlp = MLPClassifier(hidden_layer_sizes=(n_neurons,), alpha=alpha, max_iter=1000, random_state=42)\n",
        "        mlp.fit(X_train, y_train)\n",
        "\n",
        "        # Plot decision boundary and get the image\n",
        "        img = plot_decision_boundary(mlp, X_train, y_train, alpha)\n",
        "        images.append(img)\n",
        "\n",
        "    # Save the images as a GIF\n",
        "    gif_filename = 'mlp_classification_boundaries.gif'\n",
        "    images[0].save(\n",
        "        gif_filename,\n",
        "        save_all=True,\n",
        "        append_images=images[1:],\n",
        "        duration=500,\n",
        "        loop=0\n",
        "    )\n",
        "\n",
        "    print(f\"GIF saved as '{gif_filename}'\")\n",
        "\n",
        "    # return the gif\n",
        "    return gif_filename"
      ]
    },
    {
      "cell_type": "markdown",
      "metadata": {
        "id": "rchVhPG9AEAe"
      },
      "source": [
        "## RUN"
      ]
    },
    {
      "cell_type": "code",
      "execution_count": 136,
      "metadata": {
        "colab": {
          "base_uri": "https://localhost:8080/"
        },
        "id": "IU4QWtimAEAe",
        "outputId": "7d3d33de-ed2b-4788-beb4-af71ae183a16"
      },
      "outputs": [
        {
          "output_type": "stream",
          "name": "stdout",
          "text": [
            "Processing alpha=0.0010 (1/20)\n",
            "Processing alpha=0.0021 (2/20)\n",
            "Processing alpha=0.0043 (3/20)\n",
            "Processing alpha=0.0089 (4/20)\n",
            "Processing alpha=0.0183 (5/20)\n",
            "Processing alpha=0.0379 (6/20)\n",
            "Processing alpha=0.0785 (7/20)\n",
            "Processing alpha=0.1624 (8/20)\n",
            "Processing alpha=0.3360 (9/20)\n",
            "Processing alpha=0.6952 (10/20)\n",
            "Processing alpha=1.4384 (11/20)\n",
            "Processing alpha=2.9764 (12/20)\n",
            "Processing alpha=6.1585 (13/20)\n",
            "Processing alpha=12.7427 (14/20)\n",
            "Processing alpha=26.3665 (15/20)\n",
            "Processing alpha=54.5559 (16/20)\n",
            "Processing alpha=112.8838 (17/20)\n",
            "Processing alpha=233.5721 (18/20)\n",
            "Processing alpha=483.2930 (19/20)\n",
            "Processing alpha=1000.0000 (20/20)\n",
            "GIF saved as 'mlp_classification_boundaries.gif'\n"
          ]
        }
      ],
      "source": [
        "# Use np.logspace to generate alpha values, with at least 20 values\n",
        "alpha_values = np.logspace(-3, 3, 20)\n",
        "# Define the number of neurons in the hidden layer\n",
        "n_neurons =  10\n",
        "\n",
        "# Create the decision boundary GIF\n",
        "gif_dir = create_decision_boundary_gif(alpha_values, X_train, y_train, n_neurons)"
      ]
    },
    {
      "cell_type": "markdown",
      "metadata": {
        "id": "ShG74LtNAEAf"
      },
      "source": [
        "Your gif should look like this:"
      ]
    },
    {
      "cell_type": "markdown",
      "metadata": {
        "id": "k_OME9yiAEAf"
      },
      "source": [
        "<div style=\"text-align: center;\">\n",
        "\n",
        "### **Multilayer Perceptron Classification Boundaries**\n",
        "\n",
        "![Classification Boundaries](mlp_classification_boundaries_example.gif)\n",
        "\n",
        "*Figure 1: Demonstration of classification boundaries created by a Multilayer Perceptron (MLP) model.*\n",
        "\n",
        "</div>\n",
        "\n"
      ]
    }
  ],
  "metadata": {
    "colab": {
      "provenance": []
    },
    "kernelspec": {
      "display_name": "Python 3",
      "name": "python3"
    },
    "language_info": {
      "codemirror_mode": {
        "name": "ipython",
        "version": 3
      },
      "file_extension": ".py",
      "mimetype": "text/x-python",
      "name": "python",
      "nbconvert_exporter": "python",
      "pygments_lexer": "ipython3",
      "version": "3.11.5"
    }
  },
  "nbformat": 4,
  "nbformat_minor": 0
}